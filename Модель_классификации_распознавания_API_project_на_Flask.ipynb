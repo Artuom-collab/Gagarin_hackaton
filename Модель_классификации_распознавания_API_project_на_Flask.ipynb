{
  "nbformat": 4,
  "nbformat_minor": 0,
  "metadata": {
    "colab": {
      "provenance": [],
      "mount_file_id": "1pLfncqoLUYMbO7udZDLUA79NO45mbk97",
      "authorship_tag": "ABX9TyNH0iDsPBE/XS/HgkisImpK",
      "include_colab_link": true
    },
    "kernelspec": {
      "name": "python3",
      "display_name": "Python 3"
    },
    "language_info": {
      "name": "python"
    }
  },
  "cells": [
    {
      "cell_type": "markdown",
      "metadata": {
        "id": "view-in-github",
        "colab_type": "text"
      },
      "source": [
        "<a href=\"https://colab.research.google.com/github/ArtuomMerkulov/Gagarin_Hackaton/blob/main/%D0%9C%D0%BE%D0%B4%D0%B5%D0%BB%D1%8C_%D0%BA%D0%BB%D0%B0%D1%81%D1%81%D0%B8%D1%84%D0%B8%D0%BA%D0%B0%D1%86%D0%B8%D0%B8_%D1%80%D0%B0%D1%81%D0%BF%D0%BE%D0%B7%D0%BD%D0%B0%D0%B2%D0%B0%D0%BD%D0%B8%D1%8F_API_project_%D0%BD%D0%B0_Flask.ipynb\" target=\"_parent\"><img src=\"https://colab.research.google.com/assets/colab-badge.svg\" alt=\"Open In Colab\"/></a>"
      ]
    },
    {
      "cell_type": "markdown",
      "source": [
        "# Модель"
      ],
      "metadata": {
        "id": "3c9pBjJCzRB3"
      }
    },
    {
      "cell_type": "code",
      "source": [
        "# Установка необходимых библиотек\n",
        "!pip install pdf2image"
      ],
      "metadata": {
        "colab": {
          "base_uri": "https://localhost:8080/"
        },
        "id": "MKmzzv817aMb",
        "outputId": "cac7537b-9d0e-458c-933e-ac1817d2a9fc"
      },
      "execution_count": 1,
      "outputs": [
        {
          "output_type": "stream",
          "name": "stdout",
          "text": [
            "Collecting pdf2image\n",
            "  Downloading pdf2image-1.17.0-py3-none-any.whl (11 kB)\n",
            "Requirement already satisfied: pillow in /usr/local/lib/python3.10/dist-packages (from pdf2image) (9.4.0)\n",
            "Installing collected packages: pdf2image\n",
            "Successfully installed pdf2image-1.17.0\n"
          ]
        }
      ]
    },
    {
      "cell_type": "code",
      "source": [
        "import os\n",
        "import zipfile\n",
        "import cv2\n",
        "import numpy as np\n",
        "from tqdm import tqdm\n",
        "\n",
        "# Путь к общему zip-архиву с данными\n",
        "zip_file_path = '/content/drive/MyDrive/GAGARIN_DATASET.zip'\n",
        "\n",
        "# Распаковка общего ZIP-архива\n",
        "with zipfile.ZipFile(zip_file_path, 'r') as zip_ref:\n",
        "    zip_ref.extractall('extracted_data')\n",
        "\n",
        "# Создание директорий для каждого типа документа\n",
        "doc_types = ['P_Drivers', 'P_PTS', 'P_Passports', 'P_STS']\n",
        "for doc_type in doc_types:\n",
        "    os.makedirs(f'data/{doc_type}', exist_ok=True)\n",
        "\n",
        "# Извлечение и обработка изображений из ZIP-файлов\n",
        "for doc_type in doc_types:\n",
        "    zip_file_path = f'extracted_data/GAGARIN_DATASET/{doc_type}.zip'\n",
        "    with zipfile.ZipFile(zip_file_path, 'r') as zip_ref:\n",
        "        file_names = zip_ref.namelist()\n",
        "        for file_name in tqdm(file_names, desc=f'Extracting {doc_type}'):\n",
        "            try:\n",
        "                with zip_ref.open(file_name) as file:\n",
        "                    img_data = file.read()\n",
        "                    if img_data:  # Проверка, что данные изображения не пустые\n",
        "                        img = cv2.imdecode(np.frombuffer(img_data, np.uint8), cv2.IMREAD_COLOR)\n",
        "                        img_path = f'data/{doc_type}/{os.path.basename(file_name)}'\n",
        "                        cv2.imwrite(img_path, img)\n",
        "            except:\n",
        "                print(f\"Error decoding {file_name}\")\n",
        "\n",
        "# Удаление временной директории\n",
        "import shutil\n",
        "shutil.rmtree('extracted_data')"
      ],
      "metadata": {
        "colab": {
          "base_uri": "https://localhost:8080/"
        },
        "id": "jKbUZ5o9FaFc",
        "outputId": "6321fe90-8268-49d4-c852-5dcad12eadf3"
      },
      "execution_count": 2,
      "outputs": [
        {
          "output_type": "stream",
          "name": "stderr",
          "text": [
            "Extracting P_Drivers:   1%|          | 3/256 [00:00<00:13, 18.18it/s]"
          ]
        },
        {
          "output_type": "stream",
          "name": "stdout",
          "text": [
            "Error decoding __MACOSX/._Drivers\n",
            "Error decoding __MACOSX/Drivers/._v_5625_206214-1.png\n",
            "Error decoding __MACOSX/Drivers/._v_5226_088433-1.png\n"
          ]
        },
        {
          "output_type": "stream",
          "name": "stderr",
          "text": [
            "Extracting P_Drivers:   4%|▍         | 10/256 [00:00<00:12, 20.19it/s]"
          ]
        },
        {
          "output_type": "stream",
          "name": "stdout",
          "text": [
            "Error decoding __MACOSX/Drivers/._v_6231_117390-2.png\n",
            "Error decoding __MACOSX/Drivers/._v_9903_895627-2.png\n"
          ]
        },
        {
          "output_type": "stream",
          "name": "stderr",
          "text": [
            "\rExtracting P_Drivers:   5%|▌         | 13/256 [00:00<00:11, 21.46it/s]"
          ]
        },
        {
          "output_type": "stream",
          "name": "stdout",
          "text": [
            "Error decoding __MACOSX/Drivers/._v_5625_206214-2.png\n",
            "Error decoding __MACOSX/Drivers/._v_5226_088433-2.png\n",
            "Error decoding __MACOSX/Drivers/._v_6231_117390-1.png\n"
          ]
        },
        {
          "output_type": "stream",
          "name": "stderr",
          "text": [
            "\rExtracting P_Drivers:   7%|▋         | 17/256 [00:00<00:13, 18.34it/s]"
          ]
        },
        {
          "output_type": "stream",
          "name": "stdout",
          "text": [
            "Error decoding __MACOSX/Drivers/._v_9903_895627-1.png\n",
            "Error decoding __MACOSX/Drivers/._v_5223_223972-1.png\n"
          ]
        },
        {
          "output_type": "stream",
          "name": "stderr",
          "text": [
            "\rExtracting P_Drivers:   8%|▊         | 21/256 [00:01<00:21, 10.72it/s]"
          ]
        },
        {
          "output_type": "stream",
          "name": "stdout",
          "text": [
            "Error decoding __MACOSX/Drivers/._v_5230_912837-2.png\n"
          ]
        },
        {
          "output_type": "stream",
          "name": "stderr",
          "text": [
            "\rExtracting P_Drivers:   9%|▉         | 23/256 [00:01<00:28,  8.20it/s]"
          ]
        },
        {
          "output_type": "stream",
          "name": "stdout",
          "text": [
            "Error decoding __MACOSX/Drivers/._v_5227_352937-1.png\n",
            "Error decoding Drivers/.DS_Store\n",
            "Error decoding __MACOSX/Drivers/._.DS_Store\n",
            "Error decoding __MACOSX/Drivers/._v_9917_100531-2.png\n"
          ]
        },
        {
          "output_type": "stream",
          "name": "stderr",
          "text": [
            "\rExtracting P_Drivers:  11%|█▏        | 29/256 [00:02<00:19, 11.76it/s]"
          ]
        },
        {
          "output_type": "stream",
          "name": "stdout",
          "text": [
            "Error decoding __MACOSX/Drivers/._v_2620_404455-1.png\n",
            "Error decoding __MACOSX/Drivers/._v_9911_922476-1.png\n"
          ]
        },
        {
          "output_type": "stream",
          "name": "stderr",
          "text": [
            "\rExtracting P_Drivers:  13%|█▎        | 33/256 [00:02<00:20, 11.12it/s]"
          ]
        },
        {
          "output_type": "stream",
          "name": "stdout",
          "text": [
            "Error decoding __MACOSX/Drivers/._v_2130_564124-2.png\n",
            "Error decoding __MACOSX/Drivers/._v_5223_223972-2.png\n"
          ]
        },
        {
          "output_type": "stream",
          "name": "stderr",
          "text": [
            "\rExtracting P_Drivers:  14%|█▍        | 37/256 [00:03<00:24,  9.09it/s]"
          ]
        },
        {
          "output_type": "stream",
          "name": "stdout",
          "text": [
            "Error decoding __MACOSX/Drivers/._v_5230_912837-1.png\n"
          ]
        },
        {
          "output_type": "stream",
          "name": "stderr",
          "text": [
            "Extracting P_Drivers:  16%|█▌        | 41/256 [00:03<00:25,  8.43it/s]"
          ]
        },
        {
          "output_type": "stream",
          "name": "stdout",
          "text": [
            "Error decoding __MACOSX/Drivers/._v_5227_352937-2.png\n",
            "Error decoding __MACOSX/Drivers/._v_2620_404455-2.png\n"
          ]
        },
        {
          "output_type": "stream",
          "name": "stderr",
          "text": [
            "\rExtracting P_Drivers:  18%|█▊        | 45/256 [00:03<00:18, 11.30it/s]"
          ]
        },
        {
          "output_type": "stream",
          "name": "stdout",
          "text": [
            "Error decoding __MACOSX/Drivers/._v_9917_100531-1.png\n",
            "Error decoding __MACOSX/Drivers/._v_9911_922476-2.png\n"
          ]
        },
        {
          "output_type": "stream",
          "name": "stderr",
          "text": [
            "Extracting P_Drivers:  19%|█▉        | 49/256 [00:04<00:20, 10.07it/s]"
          ]
        },
        {
          "output_type": "stream",
          "name": "stdout",
          "text": [
            "Error decoding __MACOSX/Drivers/._v_2130_564124-1.png\n",
            "Error decoding __MACOSX/Drivers/._v_7835_533738-2.png\n"
          ]
        },
        {
          "output_type": "stream",
          "name": "stderr",
          "text": [
            "Extracting P_Drivers:  21%|██        | 53/256 [00:04<00:17, 11.48it/s]"
          ]
        },
        {
          "output_type": "stream",
          "name": "stdout",
          "text": [
            "Error decoding __MACOSX/Drivers/._v_9914_478436-1.png\n",
            "Error decoding __MACOSX/Drivers/._v_9221_324323-2.png\n"
          ]
        },
        {
          "output_type": "stream",
          "name": "stderr",
          "text": [
            "Extracting P_Drivers:  22%|██▏       | 57/256 [00:05<00:15, 12.70it/s]"
          ]
        },
        {
          "output_type": "stream",
          "name": "stdout",
          "text": [
            "Error decoding __MACOSX/Drivers/._v_9901_626775-2.png\n",
            "Error decoding __MACOSX/Drivers/._v_5627_119947-1.png\n",
            "Error decoding __MACOSX/Drivers/._v_3535_914735-2.png\n"
          ]
        },
        {
          "output_type": "stream",
          "name": "stderr",
          "text": [
            "Extracting P_Drivers:  25%|██▍       | 63/256 [00:05<00:16, 11.88it/s]"
          ]
        },
        {
          "output_type": "stream",
          "name": "stdout",
          "text": [
            "Error decoding __MACOSX/Drivers/._v_9900_981062-1.png\n",
            "Error decoding __MACOSX/Drivers/._v_9903_684000-1.png\n",
            "Error decoding __MACOSX/Drivers/._v_9910_372465-2.png\n",
            "Error decoding __MACOSX/Drivers/._v_2619_079098-1.png\n"
          ]
        },
        {
          "output_type": "stream",
          "name": "stderr",
          "text": [
            "Extracting P_Drivers:  29%|██▊       | 73/256 [00:06<00:10, 17.93it/s]"
          ]
        },
        {
          "output_type": "stream",
          "name": "stdout",
          "text": [
            "Error decoding __MACOSX/Drivers/._v_5217_010287-2.png\n",
            "Error decoding __MACOSX/Drivers/._v_9908_725521-2.png\n",
            "Error decoding __MACOSX/Drivers/._v_7835_533738-1.png\n"
          ]
        },
        {
          "output_type": "stream",
          "name": "stderr",
          "text": [
            "\rExtracting P_Drivers:  29%|██▉       | 75/256 [00:06<00:09, 18.11it/s]"
          ]
        },
        {
          "output_type": "stream",
          "name": "stdout",
          "text": [
            "Error decoding __MACOSX/Drivers/._v_9221_324323-1.png\n"
          ]
        },
        {
          "output_type": "stream",
          "name": "stderr",
          "text": [
            "Extracting P_Drivers:  31%|███       | 79/256 [00:06<00:12, 14.68it/s]"
          ]
        },
        {
          "output_type": "stream",
          "name": "stdout",
          "text": [
            "Error decoding __MACOSX/Drivers/._v_9914_478436-2.png\n",
            "Error decoding __MACOSX/Drivers/._v_9901_626775-1.png\n"
          ]
        },
        {
          "output_type": "stream",
          "name": "stderr",
          "text": [
            "\rExtracting P_Drivers:  32%|███▏      | 81/256 [00:06<00:12, 14.13it/s]"
          ]
        },
        {
          "output_type": "stream",
          "name": "stdout",
          "text": [
            "Error decoding __MACOSX/Drivers/._v_5627_119947-2.png\n",
            "Error decoding __MACOSX/Drivers/._v_3535_914735-1.png\n"
          ]
        },
        {
          "output_type": "stream",
          "name": "stderr",
          "text": [
            "Extracting P_Drivers:  34%|███▍      | 87/256 [00:07<00:13, 12.59it/s]"
          ]
        },
        {
          "output_type": "stream",
          "name": "stdout",
          "text": [
            "Error decoding __MACOSX/Drivers/._v_9900_981062-2.png\n",
            "Error decoding __MACOSX/Drivers/._v_9903_684000-2.png\n",
            "Error decoding __MACOSX/Drivers/._v_9910_372465-1.png\n"
          ]
        },
        {
          "output_type": "stream",
          "name": "stderr",
          "text": [
            "Extracting P_Drivers:  37%|███▋      | 95/256 [00:07<00:08, 18.49it/s]"
          ]
        },
        {
          "output_type": "stream",
          "name": "stdout",
          "text": [
            "Error decoding __MACOSX/Drivers/._v_5217_010287-1.png\n",
            "Error decoding __MACOSX/Drivers/._v_2619_079098-2.png\n",
            "Error decoding __MACOSX/Drivers/._v_9908_725521-1.png\n"
          ]
        },
        {
          "output_type": "stream",
          "name": "stderr",
          "text": [
            "\rExtracting P_Drivers:  38%|███▊      | 98/256 [00:07<00:07, 20.42it/s]"
          ]
        },
        {
          "output_type": "stream",
          "name": "stdout",
          "text": [
            "Error decoding __MACOSX/Drivers/._v_9900_290856-2.png\n"
          ]
        },
        {
          "output_type": "stream",
          "name": "stderr",
          "text": [
            "\rExtracting P_Drivers:  39%|███▉      | 101/256 [00:08<00:15, 10.28it/s]"
          ]
        },
        {
          "output_type": "stream",
          "name": "stdout",
          "text": [
            "Error decoding __MACOSX/Drivers/._v_9902_820079-1.png\n",
            "Error decoding __MACOSX/Drivers/._v_3418_073342-2.png\n"
          ]
        },
        {
          "output_type": "stream",
          "name": "stderr",
          "text": [
            "\rExtracting P_Drivers:  41%|████      | 105/256 [00:08<00:12, 11.71it/s]"
          ]
        },
        {
          "output_type": "stream",
          "name": "stdout",
          "text": [
            "Error decoding __MACOSX/Drivers/._v_9909_067467-1.png\n",
            "Error decoding __MACOSX/Drivers/._v_9900_468985-2.png\n"
          ]
        },
        {
          "output_type": "stream",
          "name": "stderr",
          "text": [
            "\rExtracting P_Drivers:  43%|████▎     | 109/256 [00:08<00:10, 14.36it/s]"
          ]
        },
        {
          "output_type": "stream",
          "name": "stdout",
          "text": [
            "Error decoding __MACOSX/Drivers/._v_5221_421693-2.png\n",
            "Error decoding __MACOSX/Drivers/._v_0716_422768-2.png\n"
          ]
        },
        {
          "output_type": "stream",
          "name": "stderr",
          "text": [
            "\rExtracting P_Drivers:  43%|████▎     | 111/256 [00:08<00:11, 13.04it/s]"
          ]
        },
        {
          "output_type": "stream",
          "name": "stdout",
          "text": [
            "Error decoding __MACOSX/Drivers/._v_3428_726708-2.png\n",
            "Error decoding __MACOSX/Drivers/._v_6926_614270-2.png\n"
          ]
        },
        {
          "output_type": "stream",
          "name": "stderr",
          "text": [
            "Extracting P_Drivers:  46%|████▋     | 119/256 [00:09<00:08, 16.56it/s]"
          ]
        },
        {
          "output_type": "stream",
          "name": "stdout",
          "text": [
            "Error decoding __MACOSX/Drivers/._v_6915_686018-2.png\n",
            "Error decoding __MACOSX/Drivers/._v_9911_567579-1.png\n",
            "Error decoding __MACOSX/Drivers/._v_9900_290856-1.png\n"
          ]
        },
        {
          "output_type": "stream",
          "name": "stderr",
          "text": [
            "Extracting P_Drivers:  48%|████▊     | 123/256 [00:09<00:12, 10.90it/s]"
          ]
        },
        {
          "output_type": "stream",
          "name": "stdout",
          "text": [
            "Error decoding __MACOSX/Drivers/._v_9902_820079-2.png\n",
            "Error decoding __MACOSX/Drivers/._v_3418_073342-1.png\n"
          ]
        },
        {
          "output_type": "stream",
          "name": "stderr",
          "text": [
            "Extracting P_Drivers:  50%|█████     | 129/256 [00:10<00:10, 12.14it/s]"
          ]
        },
        {
          "output_type": "stream",
          "name": "stdout",
          "text": [
            "Error decoding __MACOSX/Drivers/._v_9900_468985-1.png\n",
            "Error decoding __MACOSX/Drivers/._v_9909_067467-2.png\n",
            "Error decoding __MACOSX/Drivers/._v_5221_421693-1.png\n"
          ]
        },
        {
          "output_type": "stream",
          "name": "stderr",
          "text": [
            "\rExtracting P_Drivers:  51%|█████     | 131/256 [00:10<00:09, 12.69it/s]"
          ]
        },
        {
          "output_type": "stream",
          "name": "stdout",
          "text": [
            "Error decoding __MACOSX/Drivers/._v_0716_422768-1.png\n"
          ]
        },
        {
          "output_type": "stream",
          "name": "stderr",
          "text": [
            "Extracting P_Drivers:  53%|█████▎    | 135/256 [00:11<00:11, 10.53it/s]"
          ]
        },
        {
          "output_type": "stream",
          "name": "stdout",
          "text": [
            "Error decoding __MACOSX/Drivers/._v_3428_726708-1.png\n",
            "Error decoding __MACOSX/Drivers/._v_6926_614270-1.png\n"
          ]
        },
        {
          "output_type": "stream",
          "name": "stderr",
          "text": [
            "Extracting P_Drivers:  54%|█████▍    | 139/256 [00:11<00:11, 10.56it/s]"
          ]
        },
        {
          "output_type": "stream",
          "name": "stdout",
          "text": [
            "Error decoding __MACOSX/Drivers/._v_6915_686018-1.png\n",
            "Error decoding __MACOSX/Drivers/._v_9911_567579-2.png\n"
          ]
        },
        {
          "output_type": "stream",
          "name": "stderr",
          "text": [
            "Extracting P_Drivers:  56%|█████▌    | 143/256 [00:12<00:15,  7.53it/s]"
          ]
        },
        {
          "output_type": "stream",
          "name": "stdout",
          "text": [
            "Error decoding __MACOSX/Drivers/._v_6332_608058-1.png\n",
            "Error decoding __MACOSX/Drivers/._v_5226_040409-1.png\n"
          ]
        },
        {
          "output_type": "stream",
          "name": "stderr",
          "text": [
            "Extracting P_Drivers:  58%|█████▊    | 148/256 [00:12<00:09, 11.20it/s]"
          ]
        },
        {
          "output_type": "stream",
          "name": "stdout",
          "text": [
            "Error decoding __MACOSX/Drivers/._v_5230_913735-2.png\n",
            "Error decoding __MACOSX/Drivers/._v_3436_136534-1.png\n"
          ]
        },
        {
          "output_type": "stream",
          "name": "stderr",
          "text": [
            "\rExtracting P_Drivers:  59%|█████▊    | 150/256 [00:12<00:10, 10.53it/s]"
          ]
        },
        {
          "output_type": "stream",
          "name": "stdout",
          "text": [
            "Error decoding __MACOSX/Drivers/._v_9906479133-1.png\n"
          ]
        },
        {
          "output_type": "stream",
          "name": "stderr",
          "text": [
            "Extracting P_Drivers:  60%|██████    | 154/256 [00:13<00:11,  8.69it/s]"
          ]
        },
        {
          "output_type": "stream",
          "name": "stdout",
          "text": [
            "Error decoding __MACOSX/Drivers/._v_6932_194388-1.png\n",
            "Error decoding __MACOSX/Drivers/._v_4722_244165-1.png\n"
          ]
        },
        {
          "output_type": "stream",
          "name": "stderr",
          "text": [
            "Extracting P_Drivers:  61%|██████▏   | 157/256 [00:14<00:17,  5.77it/s]"
          ]
        },
        {
          "output_type": "stream",
          "name": "stdout",
          "text": [
            "Error decoding __MACOSX/Drivers/._v_6332_608058-2.png\n",
            "Error decoding __MACOSX/Drivers/._v_5230_913735-1.png\n"
          ]
        },
        {
          "output_type": "stream",
          "name": "stderr",
          "text": [
            "\rExtracting P_Drivers:  63%|██████▎   | 161/256 [00:14<00:10,  8.76it/s]"
          ]
        },
        {
          "output_type": "stream",
          "name": "stdout",
          "text": [
            "Error decoding __MACOSX/Drivers/._v_3436_136534-2.png\n",
            "Error decoding __MACOSX/Drivers/._v_5226_040409-2.png\n"
          ]
        },
        {
          "output_type": "stream",
          "name": "stderr",
          "text": [
            "\rExtracting P_Drivers:  64%|██████▎   | 163/256 [00:14<00:09,  9.73it/s]"
          ]
        },
        {
          "output_type": "stream",
          "name": "stdout",
          "text": [
            "Error decoding __MACOSX/Drivers/._v_9906479133-2.png\n"
          ]
        },
        {
          "output_type": "stream",
          "name": "stderr",
          "text": [
            "Extracting P_Drivers:  66%|██████▌   | 169/256 [00:15<00:07, 11.35it/s]"
          ]
        },
        {
          "output_type": "stream",
          "name": "stdout",
          "text": [
            "Error decoding __MACOSX/Drivers/._v_6932_194388-2.png\n",
            "Error decoding __MACOSX/Drivers/._v_4722_244165-2.png\n",
            "Error decoding __MACOSX/Drivers/._v_9901_145126-1.png\n"
          ]
        },
        {
          "output_type": "stream",
          "name": "stderr",
          "text": [
            "\rExtracting P_Drivers:  67%|██████▋   | 171/256 [00:15<00:10,  8.02it/s]"
          ]
        },
        {
          "output_type": "stream",
          "name": "stdout",
          "text": [
            "Error decoding __MACOSX/Drivers/._v_5633_881756-2.png\n",
            "Error decoding __MACOSX/Drivers/._v_9907_613377-2.png\n"
          ]
        },
        {
          "output_type": "stream",
          "name": "stderr",
          "text": [
            "Extracting P_Drivers:  70%|██████▉   | 179/256 [00:17<00:11,  6.66it/s]"
          ]
        },
        {
          "output_type": "stream",
          "name": "stdout",
          "text": [
            "Error decoding __MACOSX/Drivers/._v_9910_738083-1.png\n",
            "Error decoding __MACOSX/Drivers/._v_4721_706230-1.png\n",
            "Error decoding __MACOSX/Drivers/._v_4718_598365-2.png\n"
          ]
        },
        {
          "output_type": "stream",
          "name": "stderr",
          "text": [
            "Extracting P_Drivers:  71%|███████▏  | 183/256 [00:17<00:09,  7.99it/s]"
          ]
        },
        {
          "output_type": "stream",
          "name": "stdout",
          "text": [
            "Error decoding __MACOSX/Drivers/._v_9903_567801-2.png\n",
            "Error decoding __MACOSX/Drivers/._v_9911-742374-2.png\n"
          ]
        },
        {
          "output_type": "stream",
          "name": "stderr",
          "text": [
            "Extracting P_Drivers:  74%|███████▍  | 189/256 [00:17<00:05, 12.20it/s]"
          ]
        },
        {
          "output_type": "stream",
          "name": "stdout",
          "text": [
            "Error decoding __MACOSX/Drivers/._v_99909_571157-1.png\n",
            "Error decoding __MACOSX/Drivers/._v_9914_413012-2.png\n",
            "Error decoding __MACOSX/Drivers/._v_9901_145126-2.png\n"
          ]
        },
        {
          "output_type": "stream",
          "name": "stderr",
          "text": [
            "\rExtracting P_Drivers:  75%|███████▍  | 191/256 [00:18<00:07,  8.21it/s]"
          ]
        },
        {
          "output_type": "stream",
          "name": "stdout",
          "text": [
            "Error decoding __MACOSX/Drivers/._v_5633_881756-1.png\n",
            "Error decoding __MACOSX/Drivers/._v_9907_613377-1.png\n"
          ]
        },
        {
          "output_type": "stream",
          "name": "stderr",
          "text": [
            "Extracting P_Drivers:  78%|███████▊  | 199/256 [00:19<00:08,  6.80it/s]"
          ]
        },
        {
          "output_type": "stream",
          "name": "stdout",
          "text": [
            "Error decoding __MACOSX/Drivers/._v_9910_738083-2.png\n",
            "Error decoding __MACOSX/Drivers/._v_4721_706230-2.png\n",
            "Error decoding __MACOSX/Drivers/._v_4718_598365-1.png\n"
          ]
        },
        {
          "output_type": "stream",
          "name": "stderr",
          "text": [
            "\rExtracting P_Drivers:  79%|███████▊  | 201/256 [00:19<00:07,  7.73it/s]"
          ]
        },
        {
          "output_type": "stream",
          "name": "stdout",
          "text": [
            "Error decoding __MACOSX/Drivers/._v_9903_567801-1.png\n"
          ]
        },
        {
          "output_type": "stream",
          "name": "stderr",
          "text": [
            "Extracting P_Drivers:  80%|████████  | 205/256 [00:20<00:06,  8.42it/s]"
          ]
        },
        {
          "output_type": "stream",
          "name": "stdout",
          "text": [
            "Error decoding __MACOSX/Drivers/._v_9911-742374-1.png\n",
            "Error decoding __MACOSX/Drivers/._v_99909_571157-2.png\n"
          ]
        },
        {
          "output_type": "stream",
          "name": "stderr",
          "text": [
            "\rExtracting P_Drivers:  82%|████████▏ | 209/256 [00:20<00:04, 11.04it/s]"
          ]
        },
        {
          "output_type": "stream",
          "name": "stdout",
          "text": [
            "Error decoding __MACOSX/Drivers/._v_9914_413012-1.png\n",
            "Error decoding __MACOSX/Drivers/._v_9912_738157-2.png\n"
          ]
        },
        {
          "output_type": "stream",
          "name": "stderr",
          "text": [
            "\rExtracting P_Drivers:  82%|████████▏ | 211/256 [00:20<00:03, 11.93it/s]"
          ]
        },
        {
          "output_type": "stream",
          "name": "stdout",
          "text": [
            "Error decoding __MACOSX/Drivers/._v_6329_978915-2.png\n",
            "Error decoding __MACOSX/Drivers/._v_5223_169477-1.png\n",
            "Error decoding __MACOSX/Drivers/._v_7822_733152-2.png\n"
          ]
        },
        {
          "output_type": "stream",
          "name": "stderr",
          "text": [
            "Extracting P_Drivers:  86%|████████▌ | 219/256 [00:21<00:04,  8.83it/s]"
          ]
        },
        {
          "output_type": "stream",
          "name": "stdout",
          "text": [
            "Error decoding __MACOSX/Drivers/._v_9903904440-1.png\n",
            "Error decoding __MACOSX/Drivers/._v_9912_738157-1.png\n"
          ]
        },
        {
          "output_type": "stream",
          "name": "stderr",
          "text": [
            "\rExtracting P_Drivers:  87%|████████▋ | 223/256 [00:21<00:02, 11.59it/s]"
          ]
        },
        {
          "output_type": "stream",
          "name": "stdout",
          "text": [
            "Error decoding __MACOSX/Drivers/._v_6329_978915-1.png\n",
            "Error decoding __MACOSX/Drivers/._v_5223_169477-2.png\n",
            "Error decoding __MACOSX/Drivers/._v_7822_733152-1.png\n"
          ]
        },
        {
          "output_type": "stream",
          "name": "stderr",
          "text": [
            "\rExtracting P_Drivers:  89%|████████▊ | 227/256 [00:22<00:03,  7.43it/s]"
          ]
        },
        {
          "output_type": "stream",
          "name": "stdout",
          "text": [
            "Error decoding __MACOSX/Drivers/._v_9903904440-2.png\n",
            "Error decoding __MACOSX/Drivers/._v_5715_342500-1.png\n"
          ]
        },
        {
          "output_type": "stream",
          "name": "stderr",
          "text": [
            "\rExtracting P_Drivers:  90%|█████████ | 231/256 [00:23<00:03,  7.80it/s]"
          ]
        },
        {
          "output_type": "stream",
          "name": "stdout",
          "text": [
            "Error decoding __MACOSX/Drivers/._v_5219_494850-2.png\n",
            "Error decoding __MACOSX/Drivers/._v_9902_312059-1.png\n"
          ]
        },
        {
          "output_type": "stream",
          "name": "stderr",
          "text": [
            "\rExtracting P_Drivers:  92%|█████████▏| 235/256 [00:23<00:02,  7.44it/s]"
          ]
        },
        {
          "output_type": "stream",
          "name": "stdout",
          "text": [
            "Error decoding __MACOSX/Drivers/._v_9911_780760-2.png\n"
          ]
        },
        {
          "output_type": "stream",
          "name": "stderr",
          "text": [
            "\rExtracting P_Drivers:  93%|█████████▎| 237/256 [00:24<00:02,  6.53it/s]"
          ]
        },
        {
          "output_type": "stream",
          "name": "stdout",
          "text": [
            "Error decoding __MACOSX/Drivers/._v_9914_442671-1.png\n"
          ]
        },
        {
          "output_type": "stream",
          "name": "stderr",
          "text": [
            "\rExtracting P_Drivers:  93%|█████████▎| 239/256 [00:25<00:03,  5.21it/s]"
          ]
        },
        {
          "output_type": "stream",
          "name": "stdout",
          "text": [
            "Error decoding __MACOSX/Drivers/._v_5035_655244-2.png\n"
          ]
        },
        {
          "output_type": "stream",
          "name": "stderr",
          "text": [
            "\rExtracting P_Drivers:  94%|█████████▍| 241/256 [00:25<00:02,  5.73it/s]"
          ]
        },
        {
          "output_type": "stream",
          "name": "stdout",
          "text": [
            "Error decoding __MACOSX/Drivers/._v_9909_587787-1.png\n",
            "Error decoding __MACOSX/Drivers/._v_5715_342500-2.png\n"
          ]
        },
        {
          "output_type": "stream",
          "name": "stderr",
          "text": [
            "Extracting P_Drivers:  96%|█████████▋| 247/256 [00:26<00:01,  6.87it/s]"
          ]
        },
        {
          "output_type": "stream",
          "name": "stdout",
          "text": [
            "Error decoding __MACOSX/Drivers/._v_5219_494850-1.png\n",
            "Error decoding __MACOSX/Drivers/._v_9902_312059-2.png\n"
          ]
        },
        {
          "output_type": "stream",
          "name": "stderr",
          "text": [
            "\rExtracting P_Drivers:  97%|█████████▋| 249/256 [00:26<00:01,  4.88it/s]"
          ]
        },
        {
          "output_type": "stream",
          "name": "stdout",
          "text": [
            "Error decoding __MACOSX/Drivers/._v_9911_780760-1.png\n"
          ]
        },
        {
          "output_type": "stream",
          "name": "stderr",
          "text": [
            "\rExtracting P_Drivers:  98%|█████████▊| 251/256 [00:27<00:01,  4.41it/s]"
          ]
        },
        {
          "output_type": "stream",
          "name": "stdout",
          "text": [
            "Error decoding __MACOSX/Drivers/._v_9914_442671-2.png\n"
          ]
        },
        {
          "output_type": "stream",
          "name": "stderr",
          "text": [
            "Extracting P_Drivers: 100%|██████████| 256/256 [00:28<00:00,  9.01it/s]\n"
          ]
        },
        {
          "output_type": "stream",
          "name": "stdout",
          "text": [
            "Error decoding __MACOSX/Drivers/._v_5035_655244-1.png\n",
            "Error decoding __MACOSX/Drivers/._v_9909_587787-2.png\n"
          ]
        },
        {
          "output_type": "stream",
          "name": "stderr",
          "text": [
            "Extracting P_PTS:   2%|▏         | 2/99 [00:00<00:13,  7.00it/s]"
          ]
        },
        {
          "output_type": "stream",
          "name": "stdout",
          "text": [
            "Error decoding __MACOSX/PTS/._╨ó16 ╨¥╨í 930573.png\n"
          ]
        },
        {
          "output_type": "stream",
          "name": "stderr",
          "text": [
            "\rExtracting P_PTS:   4%|▍         | 4/99 [00:00<00:13,  7.16it/s]"
          ]
        },
        {
          "output_type": "stream",
          "name": "stdout",
          "text": [
            "Error decoding __MACOSX/PTS/._╨ó 78 ╨ú╨¥ 249946.png\n"
          ]
        },
        {
          "output_type": "stream",
          "name": "stderr",
          "text": [
            "\rExtracting P_PTS:   6%|▌         | 6/99 [00:00<00:13,  6.94it/s]"
          ]
        },
        {
          "output_type": "stream",
          "name": "stdout",
          "text": [
            "Error decoding __MACOSX/PTS/._╨ó 78 ╨ú╨ò 913904.png\n"
          ]
        },
        {
          "output_type": "stream",
          "name": "stderr",
          "text": [
            "\rExtracting P_PTS:   8%|▊         | 8/99 [00:01<00:16,  5.64it/s]"
          ]
        },
        {
          "output_type": "stream",
          "name": "stdout",
          "text": [
            "Error decoding __MACOSX/PTS/._T 52 OT 616167.png\n"
          ]
        },
        {
          "output_type": "stream",
          "name": "stderr",
          "text": [
            "\rExtracting P_PTS:  10%|█         | 10/99 [00:01<00:18,  4.79it/s]"
          ]
        },
        {
          "output_type": "stream",
          "name": "stdout",
          "text": [
            "Error decoding __MACOSX/PTS/._╨ó 18 ╨£╨ú 173069.png\n",
            "Error decoding PTS/.DS_Store\n",
            "Error decoding __MACOSX/PTS/._.DS_Store\n"
          ]
        },
        {
          "output_type": "stream",
          "name": "stderr",
          "text": [
            "\rExtracting P_PTS:  14%|█▍        | 14/99 [00:02<00:12,  7.00it/s]"
          ]
        },
        {
          "output_type": "stream",
          "name": "stdout",
          "text": [
            "Error decoding __MACOSX/PTS/._╨ó 61 ╨¥╨₧ 327387.png\n"
          ]
        },
        {
          "output_type": "stream",
          "name": "stderr",
          "text": [
            "\rExtracting P_PTS:  16%|█▌        | 16/99 [00:02<00:15,  5.45it/s]"
          ]
        },
        {
          "output_type": "stream",
          "name": "stdout",
          "text": [
            "Error decoding __MACOSX/PTS/._╨ó 52 ╨á╨Æ 778946.png\n"
          ]
        },
        {
          "output_type": "stream",
          "name": "stderr",
          "text": [
            "\rExtracting P_PTS:  18%|█▊        | 18/99 [00:03<00:14,  5.72it/s]"
          ]
        },
        {
          "output_type": "stream",
          "name": "stdout",
          "text": [
            "Error decoding __MACOSX/PTS/._╨ó 52 ╨¥╨Ñ 358590.png\n"
          ]
        },
        {
          "output_type": "stream",
          "name": "stderr",
          "text": [
            "\rExtracting P_PTS:  20%|██        | 20/99 [00:03<00:14,  5.32it/s]"
          ]
        },
        {
          "output_type": "stream",
          "name": "stdout",
          "text": [
            "Error decoding __MACOSX/PTS/._╨ó 52 ╨₧╨₧ 532774.png\n"
          ]
        },
        {
          "output_type": "stream",
          "name": "stderr",
          "text": [
            "\rExtracting P_PTS:  22%|██▏       | 22/99 [00:04<00:16,  4.76it/s]"
          ]
        },
        {
          "output_type": "stream",
          "name": "stdout",
          "text": [
            "Error decoding __MACOSX/PTS/._╨ó 39 ╨ú╨í 127422.png\n"
          ]
        },
        {
          "output_type": "stream",
          "name": "stderr",
          "text": [
            "\rExtracting P_PTS:  24%|██▍       | 24/99 [00:04<00:14,  5.18it/s]"
          ]
        },
        {
          "output_type": "stream",
          "name": "stdout",
          "text": [
            "Error decoding __MACOSX/PTS/._╨ó 39 ╨ú╨í 125382.png\n"
          ]
        },
        {
          "output_type": "stream",
          "name": "stderr",
          "text": [
            "Extracting P_PTS:  28%|██▊       | 28/99 [00:04<00:10,  6.66it/s]"
          ]
        },
        {
          "output_type": "stream",
          "name": "stdout",
          "text": [
            "Error decoding __MACOSX/PTS/._╨ó 39 ╨¥╨í 075829.png\n",
            "Error decoding __MACOSX/PTS/._╨ó 78 ╨ú╨Ñ 506805.png\n"
          ]
        },
        {
          "output_type": "stream",
          "name": "stderr",
          "text": [
            "\rExtracting P_PTS:  30%|███       | 30/99 [00:05<00:11,  5.90it/s]"
          ]
        },
        {
          "output_type": "stream",
          "name": "stdout",
          "text": [
            "Error decoding __MACOSX/PTS/._╨ó 39 ╨ú╨í 112511.png\n"
          ]
        },
        {
          "output_type": "stream",
          "name": "stderr",
          "text": [
            "\rExtracting P_PTS:  32%|███▏      | 32/99 [00:05<00:12,  5.58it/s]"
          ]
        },
        {
          "output_type": "stream",
          "name": "stdout",
          "text": [
            "Error decoding __MACOSX/PTS/._T 52 MT 953716.png\n"
          ]
        },
        {
          "output_type": "stream",
          "name": "stderr",
          "text": [
            "\rExtracting P_PTS:  34%|███▍      | 34/99 [00:05<00:10,  6.07it/s]"
          ]
        },
        {
          "output_type": "stream",
          "name": "stdout",
          "text": [
            "Error decoding __MACOSX/PTS/._╨ó 50 ╨¥╨ú 851673.png\n"
          ]
        },
        {
          "output_type": "stream",
          "name": "stderr",
          "text": [
            "\rExtracting P_PTS:  36%|███▋      | 36/99 [00:06<00:11,  5.41it/s]"
          ]
        },
        {
          "output_type": "stream",
          "name": "stdout",
          "text": [
            "Error decoding __MACOSX/PTS/._╨ó 52 ╨£╨Æ 040559.png\n"
          ]
        },
        {
          "output_type": "stream",
          "name": "stderr",
          "text": [
            "\rExtracting P_PTS:  38%|███▊      | 38/99 [00:06<00:12,  4.82it/s]"
          ]
        },
        {
          "output_type": "stream",
          "name": "stdout",
          "text": [
            "Error decoding __MACOSX/PTS/._╨ó 78 ╨ú╨ò 902503.png\n"
          ]
        },
        {
          "output_type": "stream",
          "name": "stderr",
          "text": [
            "\rExtracting P_PTS:  40%|████      | 40/99 [00:07<00:10,  5.39it/s]"
          ]
        },
        {
          "output_type": "stream",
          "name": "stdout",
          "text": [
            "Error decoding __MACOSX/PTS/._╨ó 39 ╨ó╨ú 607198.png\n"
          ]
        },
        {
          "output_type": "stream",
          "name": "stderr",
          "text": [
            "\rExtracting P_PTS:  42%|████▏     | 42/99 [00:07<00:10,  5.33it/s]"
          ]
        },
        {
          "output_type": "stream",
          "name": "stdout",
          "text": [
            "Error decoding __MACOSX/PTS/._T 52 OM 702934.png\n"
          ]
        },
        {
          "output_type": "stream",
          "name": "stderr",
          "text": [
            "\rExtracting P_PTS:  44%|████▍     | 44/99 [00:08<00:11,  4.84it/s]"
          ]
        },
        {
          "output_type": "stream",
          "name": "stdout",
          "text": [
            "Error decoding __MACOSX/PTS/._T 78 ╨ú╨ò 902503.png\n"
          ]
        },
        {
          "output_type": "stream",
          "name": "stderr",
          "text": [
            "\rExtracting P_PTS:  46%|████▋     | 46/99 [00:08<00:11,  4.56it/s]"
          ]
        },
        {
          "output_type": "stream",
          "name": "stdout",
          "text": [
            "Error decoding __MACOSX/PTS/._╨ó 77 ╨ó╨₧ 187582.png\n"
          ]
        },
        {
          "output_type": "stream",
          "name": "stderr",
          "text": [
            "\rExtracting P_PTS:  48%|████▊     | 48/99 [00:08<00:09,  5.17it/s]"
          ]
        },
        {
          "output_type": "stream",
          "name": "stdout",
          "text": [
            "Error decoding __MACOSX/PTS/._╨ó 77 ╨ú╨á 768520.png\n"
          ]
        },
        {
          "output_type": "stream",
          "name": "stderr",
          "text": [
            "\rExtracting P_PTS:  51%|█████     | 50/99 [00:09<00:10,  4.86it/s]"
          ]
        },
        {
          "output_type": "stream",
          "name": "stdout",
          "text": [
            "Error decoding __MACOSX/PTS/._T 52 OM 313989.png\n"
          ]
        },
        {
          "output_type": "stream",
          "name": "stderr",
          "text": [
            "\rExtracting P_PTS:  53%|█████▎    | 52/99 [00:09<00:08,  5.47it/s]"
          ]
        },
        {
          "output_type": "stream",
          "name": "stdout",
          "text": [
            "Error decoding __MACOSX/PTS/._╨ó 71 ╨£╨Æ 347988.png\n"
          ]
        },
        {
          "output_type": "stream",
          "name": "stderr",
          "text": [
            "\rExtracting P_PTS:  55%|█████▍    | 54/99 [00:09<00:07,  5.82it/s]"
          ]
        },
        {
          "output_type": "stream",
          "name": "stdout",
          "text": [
            "Error decoding __MACOSX/PTS/._╨ó 39 ╨ó╨¥ 065674.png\n"
          ]
        },
        {
          "output_type": "stream",
          "name": "stderr",
          "text": [
            "\rExtracting P_PTS:  57%|█████▋    | 56/99 [00:10<00:07,  5.56it/s]"
          ]
        },
        {
          "output_type": "stream",
          "name": "stdout",
          "text": [
            "Error decoding __MACOSX/PTS/._╨ó 39 ╨ú╨í 123672.png\n"
          ]
        },
        {
          "output_type": "stream",
          "name": "stderr",
          "text": [
            "\rExtracting P_PTS:  59%|█████▊    | 58/99 [00:10<00:07,  5.59it/s]"
          ]
        },
        {
          "output_type": "stream",
          "name": "stdout",
          "text": [
            "Error decoding __MACOSX/PTS/._╨ó 27 ╨ó╨£ 879765.png\n"
          ]
        },
        {
          "output_type": "stream",
          "name": "stderr",
          "text": [
            "\rExtracting P_PTS:  61%|██████    | 60/99 [00:10<00:07,  5.52it/s]"
          ]
        },
        {
          "output_type": "stream",
          "name": "stdout",
          "text": [
            "Error decoding __MACOSX/PTS/._╨ó 16 ╨¥╨₧ 214678.png\n"
          ]
        },
        {
          "output_type": "stream",
          "name": "stderr",
          "text": [
            "\rExtracting P_PTS:  63%|██████▎   | 62/99 [00:11<00:08,  4.22it/s]"
          ]
        },
        {
          "output_type": "stream",
          "name": "stdout",
          "text": [
            "Error decoding __MACOSX/PTS/._╨ó 52 ╨£╨ó 953716.png\n"
          ]
        },
        {
          "output_type": "stream",
          "name": "stderr",
          "text": [
            "\rExtracting P_PTS:  65%|██████▍   | 64/99 [00:12<00:08,  4.00it/s]"
          ]
        },
        {
          "output_type": "stream",
          "name": "stdout",
          "text": [
            "Error decoding __MACOSX/PTS/._╨ó 52 ╨á╨Ü 053935.png\n"
          ]
        },
        {
          "output_type": "stream",
          "name": "stderr",
          "text": [
            "\rExtracting P_PTS:  67%|██████▋   | 66/99 [00:12<00:07,  4.36it/s]"
          ]
        },
        {
          "output_type": "stream",
          "name": "stdout",
          "text": [
            "Error decoding __MACOSX/PTS/._╨ó 77 ╨ú╨₧ 468311.png\n"
          ]
        },
        {
          "output_type": "stream",
          "name": "stderr",
          "text": [
            "\rExtracting P_PTS:  69%|██████▊   | 68/99 [00:12<00:06,  4.88it/s]"
          ]
        },
        {
          "output_type": "stream",
          "name": "stdout",
          "text": [
            "Error decoding __MACOSX/PTS/._╨ó 39 ╨ó╨¥ 062679.png\n"
          ]
        },
        {
          "output_type": "stream",
          "name": "stderr",
          "text": [
            "\rExtracting P_PTS:  71%|███████   | 70/99 [00:13<00:07,  3.79it/s]"
          ]
        },
        {
          "output_type": "stream",
          "name": "stdout",
          "text": [
            "Error decoding __MACOSX/PTS/._╨ó 77 ╨ú╨¥ 832499.png\n"
          ]
        },
        {
          "output_type": "stream",
          "name": "stderr",
          "text": [
            "\rExtracting P_PTS:  73%|███████▎  | 72/99 [00:14<00:06,  4.01it/s]"
          ]
        },
        {
          "output_type": "stream",
          "name": "stdout",
          "text": [
            "Error decoding __MACOSX/PTS/._╨ó 78 ╨ú╨Ñ 339597.png\n"
          ]
        },
        {
          "output_type": "stream",
          "name": "stderr",
          "text": [
            "\rExtracting P_PTS:  75%|███████▍  | 74/99 [00:14<00:05,  4.48it/s]"
          ]
        },
        {
          "output_type": "stream",
          "name": "stdout",
          "text": [
            "Error decoding __MACOSX/PTS/._╨ó 52 ╨¥╨ú 587970.png\n"
          ]
        },
        {
          "output_type": "stream",
          "name": "stderr",
          "text": [
            "\rExtracting P_PTS:  77%|███████▋  | 76/99 [00:14<00:05,  4.31it/s]"
          ]
        },
        {
          "output_type": "stream",
          "name": "stdout",
          "text": [
            "Error decoding __MACOSX/PTS/._╨ó 77 ╨ú╨ó 993955.png\n"
          ]
        },
        {
          "output_type": "stream",
          "name": "stderr",
          "text": [
            "\rExtracting P_PTS:  79%|███████▉  | 78/99 [00:15<00:04,  4.39it/s]"
          ]
        },
        {
          "output_type": "stream",
          "name": "stdout",
          "text": [
            "Error decoding __MACOSX/PTS/._╨ó 52 ╨₧╨Ü 097513.png\n"
          ]
        },
        {
          "output_type": "stream",
          "name": "stderr",
          "text": [
            "\rExtracting P_PTS:  81%|████████  | 80/99 [00:15<00:04,  4.46it/s]"
          ]
        },
        {
          "output_type": "stream",
          "name": "stdout",
          "text": [
            "Error decoding __MACOSX/PTS/._╨ó 77 ╨ú╨₧ 767607.png\n"
          ]
        },
        {
          "output_type": "stream",
          "name": "stderr",
          "text": [
            "\rExtracting P_PTS:  83%|████████▎ | 82/99 [00:16<00:04,  4.15it/s]"
          ]
        },
        {
          "output_type": "stream",
          "name": "stdout",
          "text": [
            "Error decoding __MACOSX/PTS/._╨ó 78 ╨ú╨₧ 277710.png\n"
          ]
        },
        {
          "output_type": "stream",
          "name": "stderr",
          "text": [
            "\rExtracting P_PTS:  85%|████████▍ | 84/99 [00:16<00:03,  4.67it/s]"
          ]
        },
        {
          "output_type": "stream",
          "name": "stdout",
          "text": [
            "Error decoding __MACOSX/PTS/._╨ó 36 ╨Ñ╨É 002216.png\n"
          ]
        },
        {
          "output_type": "stream",
          "name": "stderr",
          "text": [
            "\rExtracting P_PTS:  87%|████████▋ | 86/99 [00:17<00:02,  4.45it/s]"
          ]
        },
        {
          "output_type": "stream",
          "name": "stdout",
          "text": [
            "Error decoding __MACOSX/PTS/._T 16 OC 311173.png\n"
          ]
        },
        {
          "output_type": "stream",
          "name": "stderr",
          "text": [
            "\rExtracting P_PTS:  89%|████████▉ | 88/99 [00:17<00:02,  5.07it/s]"
          ]
        },
        {
          "output_type": "stream",
          "name": "stdout",
          "text": [
            "Error decoding __MACOSX/PTS/._╨ó 78 ╨¥╨á 411514.png\n"
          ]
        },
        {
          "output_type": "stream",
          "name": "stderr",
          "text": [
            "\rExtracting P_PTS:  91%|█████████ | 90/99 [00:17<00:01,  4.71it/s]"
          ]
        },
        {
          "output_type": "stream",
          "name": "stdout",
          "text": [
            "Error decoding __MACOSX/PTS/._╨ó 54 ╨ò╨í 684193.png\n"
          ]
        },
        {
          "output_type": "stream",
          "name": "stderr",
          "text": [
            "\rExtracting P_PTS:  93%|█████████▎| 92/99 [00:18<00:01,  4.66it/s]"
          ]
        },
        {
          "output_type": "stream",
          "name": "stdout",
          "text": [
            "Error decoding __MACOSX/PTS/._╨ó 77 ╨ú╨₧ 633523.png\n"
          ]
        },
        {
          "output_type": "stream",
          "name": "stderr",
          "text": [
            "\rExtracting P_PTS:  95%|█████████▍| 94/99 [00:18<00:01,  4.74it/s]"
          ]
        },
        {
          "output_type": "stream",
          "name": "stdout",
          "text": [
            "Error decoding __MACOSX/PTS/._╨ó 77 ╨ú╨₧ 655328.png\n"
          ]
        },
        {
          "output_type": "stream",
          "name": "stderr",
          "text": [
            "\rExtracting P_PTS:  97%|█████████▋| 96/99 [00:19<00:00,  5.41it/s]"
          ]
        },
        {
          "output_type": "stream",
          "name": "stdout",
          "text": [
            "Error decoding __MACOSX/PTS/._╨ó 78 ╨ú╨Ñ 287724.png\n"
          ]
        },
        {
          "output_type": "stream",
          "name": "stderr",
          "text": [
            "Extracting P_PTS: 100%|██████████| 99/99 [00:19<00:00,  5.09it/s]\n"
          ]
        },
        {
          "output_type": "stream",
          "name": "stdout",
          "text": [
            "Error decoding __MACOSX/PTS/._╨ó 77 ╨¥╨¥ 945084.png\n"
          ]
        },
        {
          "output_type": "stream",
          "name": "stderr",
          "text": [
            "Extracting P_Passports:   1%|          | 3/254 [00:00<00:12, 20.91it/s]"
          ]
        },
        {
          "output_type": "stream",
          "name": "stdout",
          "text": [
            "Error decoding __MACOSX/._Passports\n",
            "Error decoding __MACOSX/Passports/._p_8311_101959-1.png\n",
            "Error decoding __MACOSX/Passports/._p_5419_525990-1.png\n"
          ]
        },
        {
          "output_type": "stream",
          "name": "stderr",
          "text": [
            "Extracting P_Passports:   4%|▎         | 9/254 [00:01<00:28,  8.73it/s]"
          ]
        },
        {
          "output_type": "stream",
          "name": "stdout",
          "text": [
            "Error decoding __MACOSX/Passports/._p_6008_118578-1.png\n",
            "Error decoding __MACOSX/Passports/._p-1912_852328-1.png\n",
            "Error decoding __MACOSX/Passports/._p_4001_972761-1.png\n"
          ]
        },
        {
          "output_type": "stream",
          "name": "stderr",
          "text": [
            "\rExtracting P_Passports:   5%|▌         | 13/254 [00:01<00:20, 11.57it/s]"
          ]
        },
        {
          "output_type": "stream",
          "name": "stdout",
          "text": [
            "Error decoding __MACOSX/Passports/._p_5305_413823-2.png\n"
          ]
        },
        {
          "output_type": "stream",
          "name": "stderr",
          "text": [
            "Extracting P_Passports:   7%|▋         | 19/254 [00:01<00:16, 14.63it/s]"
          ]
        },
        {
          "output_type": "stream",
          "name": "stdout",
          "text": [
            "Error decoding __MACOSX/Passports/._p_2418_903235-1.png\n",
            "Error decoding __MACOSX/Passports/._p_2212_935823-1.png\n",
            "Error decoding __MACOSX/Passports/._p_0712_705786-2.png\n",
            "Error decoding __MACOSX/Passports/._p_1419_792905-2.png\n"
          ]
        },
        {
          "output_type": "stream",
          "name": "stderr",
          "text": [
            "\rExtracting P_Passports:   9%|▉         | 23/254 [00:01<00:13, 17.35it/s]"
          ]
        },
        {
          "output_type": "stream",
          "name": "stdout",
          "text": [
            "Error decoding __MACOSX/Passports/._p_8311_101959-2.png\n",
            "Error decoding __MACOSX/Passports/._p_5419_525990-2.png\n"
          ]
        },
        {
          "output_type": "stream",
          "name": "stderr",
          "text": [
            "Extracting P_Passports:  12%|█▏        | 31/254 [00:02<00:18, 11.79it/s]"
          ]
        },
        {
          "output_type": "stream",
          "name": "stdout",
          "text": [
            "Error decoding __MACOSX/Passports/._p_6008_118578-2.png\n",
            "Error decoding __MACOSX/Passports/._p-1912_852328-2.png\n",
            "Error decoding __MACOSX/Passports/._p_4001_972761-2.png\n"
          ]
        },
        {
          "output_type": "stream",
          "name": "stderr",
          "text": [
            "Extracting P_Passports:  15%|█▌        | 39/254 [00:03<00:11, 18.05it/s]"
          ]
        },
        {
          "output_type": "stream",
          "name": "stdout",
          "text": [
            "Error decoding __MACOSX/Passports/._p_5305_413823-1.png\n",
            "Error decoding __MACOSX/Passports/._p_2212_935823-2.png\n",
            "Error decoding __MACOSX/Passports/._p_1419_792905-1.png\n",
            "Error decoding __MACOSX/Passports/._p_0712_705786-1.png\n"
          ]
        },
        {
          "output_type": "stream",
          "name": "stderr",
          "text": [
            "Extracting P_Passports:  17%|█▋        | 44/254 [00:04<00:24,  8.66it/s]"
          ]
        },
        {
          "output_type": "stream",
          "name": "stdout",
          "text": [
            "Error decoding __MACOSX/Passports/._p_2216_616373-1.png\n",
            "Error decoding __MACOSX/Passports/._p_0406_395014-1.png\n"
          ]
        },
        {
          "output_type": "stream",
          "name": "stderr",
          "text": [
            "\rExtracting P_Passports:  18%|█▊        | 46/254 [00:04<00:25,  8.22it/s]"
          ]
        },
        {
          "output_type": "stream",
          "name": "stdout",
          "text": [
            "Error decoding __MACOSX/Passports/._p_9213_577611-2.png\n"
          ]
        },
        {
          "output_type": "stream",
          "name": "stderr",
          "text": [
            "\rExtracting P_Passports:  19%|█▉        | 48/254 [00:05<00:43,  4.77it/s]"
          ]
        },
        {
          "output_type": "stream",
          "name": "stdout",
          "text": [
            "Error decoding __MACOSX/Passports/._p_5315_617898-1.png\n"
          ]
        },
        {
          "output_type": "stream",
          "name": "stderr",
          "text": [
            "\rExtracting P_Passports:  20%|█▉        | 50/254 [00:05<00:39,  5.13it/s]"
          ]
        },
        {
          "output_type": "stream",
          "name": "stdout",
          "text": [
            "Error decoding __MACOSX/Passports/._p_6017_015304-2.png\n",
            "Error decoding Passports/.DS_Store\n",
            "Error decoding __MACOSX/Passports/._.DS_Store\n"
          ]
        },
        {
          "output_type": "stream",
          "name": "stderr",
          "text": [
            "\rExtracting P_Passports:  21%|██        | 53/254 [00:06<00:45,  4.40it/s]"
          ]
        },
        {
          "output_type": "stream",
          "name": "stdout",
          "text": [
            "Error decoding __MACOSX/Passports/._p_2213_139865-2.png\n"
          ]
        },
        {
          "output_type": "stream",
          "name": "stderr",
          "text": [
            "\rExtracting P_Passports:  22%|██▏       | 55/254 [00:07<00:56,  3.52it/s]"
          ]
        },
        {
          "output_type": "stream",
          "name": "stdout",
          "text": [
            "Error decoding __MACOSX/Passports/._p_5408_101703-2.png\n"
          ]
        },
        {
          "output_type": "stream",
          "name": "stderr",
          "text": [
            "\rExtracting P_Passports:  22%|██▏       | 57/254 [00:08<01:08,  2.87it/s]"
          ]
        },
        {
          "output_type": "stream",
          "name": "stdout",
          "text": [
            "Error decoding __MACOSX/Passports/._p_4616010731-1 1.png\n"
          ]
        },
        {
          "output_type": "stream",
          "name": "stderr",
          "text": [
            "Extracting P_Passports:  24%|██▍       | 61/254 [00:09<00:55,  3.49it/s]"
          ]
        },
        {
          "output_type": "stream",
          "name": "stdout",
          "text": [
            "Error decoding __MACOSX/Passports/._p_2203_398072-1.png\n",
            "Error decoding __MACOSX/Passports/._p_2213_023808-2.png\n"
          ]
        },
        {
          "output_type": "stream",
          "name": "stderr",
          "text": [
            "Extracting P_Passports:  26%|██▌       | 65/254 [00:10<00:52,  3.60it/s]"
          ]
        },
        {
          "output_type": "stream",
          "name": "stdout",
          "text": [
            "Error decoding __MACOSX/Passports/._p_2216_616373-2.png\n",
            "Error decoding __MACOSX/Passports/._p_0406_395014-2.png\n"
          ]
        },
        {
          "output_type": "stream",
          "name": "stderr",
          "text": [
            "\rExtracting P_Passports:  26%|██▋       | 67/254 [00:11<00:44,  4.16it/s]"
          ]
        },
        {
          "output_type": "stream",
          "name": "stdout",
          "text": [
            "Error decoding __MACOSX/Passports/._p_9213_577611-1.png\n"
          ]
        },
        {
          "output_type": "stream",
          "name": "stderr",
          "text": [
            "Extracting P_Passports:  28%|██▊       | 71/254 [00:12<00:41,  4.46it/s]"
          ]
        },
        {
          "output_type": "stream",
          "name": "stdout",
          "text": [
            "Error decoding __MACOSX/Passports/._p_5315_617898-2.png\n",
            "Error decoding __MACOSX/Passports/._p_6017_015304-1.png\n"
          ]
        },
        {
          "output_type": "stream",
          "name": "stderr",
          "text": [
            "\rExtracting P_Passports:  29%|██▊       | 73/254 [00:12<00:45,  4.01it/s]"
          ]
        },
        {
          "output_type": "stream",
          "name": "stdout",
          "text": [
            "Error decoding __MACOSX/Passports/._p_2213_139865-1.png\n"
          ]
        },
        {
          "output_type": "stream",
          "name": "stderr",
          "text": [
            "\rExtracting P_Passports:  30%|██▉       | 75/254 [00:13<00:49,  3.61it/s]"
          ]
        },
        {
          "output_type": "stream",
          "name": "stdout",
          "text": [
            "Error decoding __MACOSX/Passports/._p_5408_101703-1.png\n"
          ]
        },
        {
          "output_type": "stream",
          "name": "stderr",
          "text": [
            "\rExtracting P_Passports:  30%|███       | 77/254 [00:14<00:56,  3.16it/s]"
          ]
        },
        {
          "output_type": "stream",
          "name": "stdout",
          "text": [
            "Error decoding __MACOSX/Passports/._p_2203_398072-2.png\n"
          ]
        },
        {
          "output_type": "stream",
          "name": "stderr",
          "text": [
            "Extracting P_Passports:  33%|███▎      | 83/254 [00:14<00:30,  5.67it/s]"
          ]
        },
        {
          "output_type": "stream",
          "name": "stdout",
          "text": [
            "Error decoding __MACOSX/Passports/._p_2213_023808-1.png\n",
            "Error decoding __MACOSX/Passports/._p_1818_432072-2.png\n",
            "Error decoding __MACOSX/Passports/._p_4616_350532-1.png\n"
          ]
        },
        {
          "output_type": "stream",
          "name": "stderr",
          "text": [
            "\rExtracting P_Passports:  33%|███▎      | 85/254 [00:15<00:28,  5.91it/s]"
          ]
        },
        {
          "output_type": "stream",
          "name": "stdout",
          "text": [
            "Error decoding __MACOSX/Passports/._p_2214_221862-1.png\n",
            "Error decoding __MACOSX/Passports/._p_8507_375246-1.png\n"
          ]
        },
        {
          "output_type": "stream",
          "name": "stderr",
          "text": [
            "\rExtracting P_Passports:  35%|███▌      | 89/254 [00:16<00:35,  4.69it/s]"
          ]
        },
        {
          "output_type": "stream",
          "name": "stdout",
          "text": [
            "Error decoding __MACOSX/Passports/._p_4103_145761-2.png\n"
          ]
        },
        {
          "output_type": "stream",
          "name": "stderr",
          "text": [
            "\rExtracting P_Passports:  36%|███▌      | 91/254 [00:16<00:37,  4.39it/s]"
          ]
        },
        {
          "output_type": "stream",
          "name": "stdout",
          "text": [
            "Error decoding __MACOSX/Passports/._p_3208_537443-1.png\n"
          ]
        },
        {
          "output_type": "stream",
          "name": "stderr",
          "text": [
            "Extracting P_Passports:  38%|███▊      | 97/254 [00:17<00:22,  6.92it/s]"
          ]
        },
        {
          "output_type": "stream",
          "name": "stdout",
          "text": [
            "Error decoding __MACOSX/Passports/._p_4511_316558-1.png\n",
            "Error decoding __MACOSX/Passports/._p_2218_9833398-2.png\n",
            "Error decoding __MACOSX/Passports/._p_2805_618777-1.png\n"
          ]
        },
        {
          "output_type": "stream",
          "name": "stderr",
          "text": [
            "\rExtracting P_Passports:  40%|███▉      | 101/254 [00:17<00:16,  9.22it/s]"
          ]
        },
        {
          "output_type": "stream",
          "name": "stdout",
          "text": [
            "Error decoding __MACOSX/Passports/._p_1818_432072-1.png\n",
            "Error decoding __MACOSX/Passports/._p_4616_350532-2.png\n"
          ]
        },
        {
          "output_type": "stream",
          "name": "stderr",
          "text": [
            "Extracting P_Passports:  41%|████▏     | 105/254 [00:17<00:15,  9.69it/s]"
          ]
        },
        {
          "output_type": "stream",
          "name": "stdout",
          "text": [
            "Error decoding __MACOSX/Passports/._p_2214_221862-2.png\n",
            "Error decoding __MACOSX/Passports/._p_8507_375246-2.png\n"
          ]
        },
        {
          "output_type": "stream",
          "name": "stderr",
          "text": [
            "\rExtracting P_Passports:  42%|████▏     | 107/254 [00:18<00:30,  4.86it/s]"
          ]
        },
        {
          "output_type": "stream",
          "name": "stdout",
          "text": [
            "Error decoding __MACOSX/Passports/._p_4103_145761-1.png\n"
          ]
        },
        {
          "output_type": "stream",
          "name": "stderr",
          "text": [
            "\rExtracting P_Passports:  43%|████▎     | 109/254 [00:19<00:36,  3.98it/s]"
          ]
        },
        {
          "output_type": "stream",
          "name": "stdout",
          "text": [
            "Error decoding __MACOSX/Passports/._p_3208_537443-2.png\n"
          ]
        },
        {
          "output_type": "stream",
          "name": "stderr",
          "text": [
            "Extracting P_Passports:  44%|████▍     | 113/254 [00:20<00:28,  4.95it/s]"
          ]
        },
        {
          "output_type": "stream",
          "name": "stdout",
          "text": [
            "Error decoding __MACOSX/Passports/._p_4511_316558-2.png\n",
            "Error decoding __MACOSX/Passports/._p_2218_9833398-1.png\n"
          ]
        },
        {
          "output_type": "stream",
          "name": "stderr",
          "text": [
            "Extracting P_Passports:  47%|████▋     | 119/254 [00:20<00:14,  9.33it/s]"
          ]
        },
        {
          "output_type": "stream",
          "name": "stdout",
          "text": [
            "Error decoding __MACOSX/Passports/._p_2805_618777-2.png\n",
            "Error decoding __MACOSX/Passports/._p_2208_130121-1.png\n",
            "Error decoding __MACOSX/Passports/._p_6520_032370-2.png\n"
          ]
        },
        {
          "output_type": "stream",
          "name": "stderr",
          "text": [
            "\rExtracting P_Passports:  48%|████▊     | 121/254 [00:20<00:12, 10.62it/s]"
          ]
        },
        {
          "output_type": "stream",
          "name": "stdout",
          "text": [
            "Error decoding __MACOSX/Passports/._p_3206_327782-1.png\n"
          ]
        },
        {
          "output_type": "stream",
          "name": "stderr",
          "text": [
            "\rExtracting P_Passports:  48%|████▊     | 123/254 [00:21<00:19,  6.66it/s]"
          ]
        },
        {
          "output_type": "stream",
          "name": "stdout",
          "text": [
            "Error decoding __MACOSX/Passports/._p_3410_990043-2.png\n"
          ]
        },
        {
          "output_type": "stream",
          "name": "stderr",
          "text": [
            "\rExtracting P_Passports:  49%|████▉     | 125/254 [00:21<00:19,  6.72it/s]"
          ]
        },
        {
          "output_type": "stream",
          "name": "stdout",
          "text": [
            "Error decoding __MACOSX/Passports/._p_4614_552928-1.png\n"
          ]
        },
        {
          "output_type": "stream",
          "name": "stderr",
          "text": [
            "\rExtracting P_Passports:  50%|█████     | 127/254 [00:22<00:26,  4.87it/s]"
          ]
        },
        {
          "output_type": "stream",
          "name": "stdout",
          "text": [
            "Error decoding __MACOSX/Passports/._p_2415_807334-1.png\n",
            "Error decoding __MACOSX/Passports/._p_9211_238623-2.png\n"
          ]
        },
        {
          "output_type": "stream",
          "name": "stderr",
          "text": [
            "Extracting P_Passports:  52%|█████▏    | 133/254 [00:22<00:14,  8.18it/s]"
          ]
        },
        {
          "output_type": "stream",
          "name": "stdout",
          "text": [
            "Error decoding __MACOSX/Passports/._p_3606_632651-2.png\n",
            "Error decoding __MACOSX/Passports/._p_6312_825398-2.png\n"
          ]
        },
        {
          "output_type": "stream",
          "name": "stderr",
          "text": [
            "\rExtracting P_Passports:  53%|█████▎    | 135/254 [00:22<00:13,  8.54it/s]"
          ]
        },
        {
          "output_type": "stream",
          "name": "stdout",
          "text": [
            "Error decoding __MACOSX/Passports/._p_2814_349456-1.png\n"
          ]
        },
        {
          "output_type": "stream",
          "name": "stderr",
          "text": [
            "Extracting P_Passports:  56%|█████▌    | 141/254 [00:23<00:09, 12.36it/s]"
          ]
        },
        {
          "output_type": "stream",
          "name": "stdout",
          "text": [
            "Error decoding __MACOSX/Passports/._p_4518_244975-2.png\n",
            "Error decoding __MACOSX/Passports/._p_2208_130121-2.png\n",
            "Error decoding __MACOSX/Passports/._p_6520_032370-1.png\n",
            "Error decoding __MACOSX/Passports/._p_3206_327782-2.png\n"
          ]
        },
        {
          "output_type": "stream",
          "name": "stderr",
          "text": [
            "\rExtracting P_Passports:  57%|█████▋    | 145/254 [00:23<00:10, 10.49it/s]"
          ]
        },
        {
          "output_type": "stream",
          "name": "stdout",
          "text": [
            "Error decoding __MACOSX/Passports/._p_3410_990043-1.png\n"
          ]
        },
        {
          "output_type": "stream",
          "name": "stderr",
          "text": [
            "Extracting P_Passports:  59%|█████▉    | 150/254 [00:24<00:08, 12.80it/s]"
          ]
        },
        {
          "output_type": "stream",
          "name": "stdout",
          "text": [
            "Error decoding __MACOSX/Passports/._p_4614_552928-2.png\n",
            "Error decoding __MACOSX/Passports/._p_2214_297019-1.png\n"
          ]
        },
        {
          "output_type": "stream",
          "name": "stderr",
          "text": [
            "Extracting P_Passports:  61%|██████    | 155/254 [00:24<00:09, 10.42it/s]"
          ]
        },
        {
          "output_type": "stream",
          "name": "stdout",
          "text": [
            "Error decoding __MACOSX/Passports/._p_2415_807334-2.png\n",
            "Error decoding __MACOSX/Passports/._p_9211_238623-1.png\n",
            "Error decoding __MACOSX/Passports/._p_3606_632651-1.png\n"
          ]
        },
        {
          "output_type": "stream",
          "name": "stderr",
          "text": [
            "\rExtracting P_Passports:  63%|██████▎   | 159/254 [00:24<00:07, 12.35it/s]"
          ]
        },
        {
          "output_type": "stream",
          "name": "stdout",
          "text": [
            "Error decoding __MACOSX/Passports/._p_6312_825398-1.png\n",
            "Error decoding __MACOSX/Passports/._p_2814_349456-2.png\n"
          ]
        },
        {
          "output_type": "stream",
          "name": "stderr",
          "text": [
            "\rExtracting P_Passports:  63%|██████▎   | 161/254 [00:25<00:07, 12.52it/s]"
          ]
        },
        {
          "output_type": "stream",
          "name": "stdout",
          "text": [
            "Error decoding __MACOSX/Passports/._p_4518_244975-1.png\n",
            "Error decoding __MACOSX/Passports/._p_2217_746207-1.png\n"
          ]
        },
        {
          "output_type": "stream",
          "name": "stderr",
          "text": [
            "\rExtracting P_Passports:  65%|██████▍   | 165/254 [00:25<00:10,  8.51it/s]"
          ]
        },
        {
          "output_type": "stream",
          "name": "stdout",
          "text": [
            "Error decoding __MACOSX/Passports/._p_8915_397994-1.png\n"
          ]
        },
        {
          "output_type": "stream",
          "name": "stderr",
          "text": [
            "\rExtracting P_Passports:  66%|██████▌   | 167/254 [00:26<00:11,  7.65it/s]"
          ]
        },
        {
          "output_type": "stream",
          "name": "stdout",
          "text": [
            "Error decoding __MACOSX/Passports/._p_2216_653238-1.png\n"
          ]
        },
        {
          "output_type": "stream",
          "name": "stderr",
          "text": [
            "\rExtracting P_Passports:  67%|██████▋   | 169/254 [00:26<00:14,  5.96it/s]"
          ]
        },
        {
          "output_type": "stream",
          "name": "stdout",
          "text": [
            "Error decoding __MACOSX/Passports/._p_2800_228204-1.png\n"
          ]
        },
        {
          "output_type": "stream",
          "name": "stderr",
          "text": [
            "Extracting P_Passports:  68%|██████▊   | 173/254 [00:27<00:14,  5.42it/s]"
          ]
        },
        {
          "output_type": "stream",
          "name": "stdout",
          "text": [
            "Error decoding __MACOSX/Passports/._p_0914_419814-2.png\n",
            "Error decoding __MACOSX/Passports/._p_2217_827803-1.png\n"
          ]
        },
        {
          "output_type": "stream",
          "name": "stderr",
          "text": [
            "\rExtracting P_Passports:  69%|██████▉   | 175/254 [00:28<00:17,  4.48it/s]"
          ]
        },
        {
          "output_type": "stream",
          "name": "stdout",
          "text": [
            "Error decoding __MACOSX/Passports/._p_4613_342934-2.png\n",
            "Error decoding __MACOSX/Passports/._p_2217_746207-2.png\n"
          ]
        },
        {
          "output_type": "stream",
          "name": "stderr",
          "text": [
            "\rExtracting P_Passports:  70%|███████   | 179/254 [00:28<00:14,  5.19it/s]"
          ]
        },
        {
          "output_type": "stream",
          "name": "stdout",
          "text": [
            "Error decoding __MACOSX/Passports/._p_8915_397994-2.png\n"
          ]
        },
        {
          "output_type": "stream",
          "name": "stderr",
          "text": [
            "Extracting P_Passports:  72%|███████▏  | 183/254 [00:29<00:11,  6.28it/s]"
          ]
        },
        {
          "output_type": "stream",
          "name": "stdout",
          "text": [
            "Error decoding __MACOSX/Passports/._p_2216_653238-2.png\n",
            "Error decoding __MACOSX/Passports/._p_2800_228204-2.png\n"
          ]
        },
        {
          "output_type": "stream",
          "name": "stderr",
          "text": [
            "Extracting P_Passports:  74%|███████▎  | 187/254 [00:30<00:11,  5.78it/s]"
          ]
        },
        {
          "output_type": "stream",
          "name": "stdout",
          "text": [
            "Error decoding __MACOSX/Passports/._p_0914_419814-1.png\n",
            "Error decoding __MACOSX/Passports/._p_2217_827803-2.png\n"
          ]
        },
        {
          "output_type": "stream",
          "name": "stderr",
          "text": [
            "\rExtracting P_Passports:  74%|███████▍  | 189/254 [00:30<00:09,  6.69it/s]"
          ]
        },
        {
          "output_type": "stream",
          "name": "stdout",
          "text": [
            "Error decoding __MACOSX/Passports/._p_2213_182484-1.png\n"
          ]
        },
        {
          "output_type": "stream",
          "name": "stderr",
          "text": [
            "Extracting P_Passports:  76%|███████▌  | 193/254 [00:31<00:09,  6.18it/s]"
          ]
        },
        {
          "output_type": "stream",
          "name": "stdout",
          "text": [
            "Error decoding __MACOSX/Passports/._p_4613_342934-1.png\n",
            "Error decoding __MACOSX/Passports/._p_1809_446283-2.png\n"
          ]
        },
        {
          "output_type": "stream",
          "name": "stderr",
          "text": [
            "Extracting P_Passports:  78%|███████▊  | 197/254 [00:31<00:06,  8.87it/s]"
          ]
        },
        {
          "output_type": "stream",
          "name": "stdout",
          "text": [
            "Error decoding __MACOSX/Passports/._p_4103_658102-1.png\n",
            "Error decoding __MACOSX/Passports/._p_2815_396452-1.png\n"
          ]
        },
        {
          "output_type": "stream",
          "name": "stderr",
          "text": [
            "\rExtracting P_Passports:  78%|███████▊  | 199/254 [00:31<00:05,  9.52it/s]"
          ]
        },
        {
          "output_type": "stream",
          "name": "stdout",
          "text": [
            "Error decoding __MACOSX/Passports/._p_2818_609346-1.png\n",
            "Error decoding __MACOSX/Passports/._p_4106_891727-1.png\n"
          ]
        },
        {
          "output_type": "stream",
          "name": "stderr",
          "text": [
            "Extracting P_Passports:  81%|████████▏ | 207/254 [00:32<00:03, 14.81it/s]"
          ]
        },
        {
          "output_type": "stream",
          "name": "stdout",
          "text": [
            "Error decoding __MACOSX/Passports/._p_1809_446283-1.png\n",
            "Error decoding __MACOSX/Passports/._p_4012_544552-1.png\n",
            "Error decoding __MACOSX/Passports/._p_4103_658102-2.png\n"
          ]
        },
        {
          "output_type": "stream",
          "name": "stderr",
          "text": [
            "Extracting P_Passports:  83%|████████▎ | 211/254 [00:32<00:02, 16.27it/s]"
          ]
        },
        {
          "output_type": "stream",
          "name": "stdout",
          "text": [
            "Error decoding __MACOSX/Passports/._p_2815_396452-2.png\n",
            "Error decoding __MACOSX/Passports/._p_2818_609346-2.png\n"
          ]
        },
        {
          "output_type": "stream",
          "name": "stderr",
          "text": [
            "\rExtracting P_Passports:  84%|████████▍ | 213/254 [00:32<00:03, 11.54it/s]"
          ]
        },
        {
          "output_type": "stream",
          "name": "stdout",
          "text": [
            "Error decoding __MACOSX/Passports/._p_6808_526544-1.png\n"
          ]
        },
        {
          "output_type": "stream",
          "name": "stderr",
          "text": [
            "\rExtracting P_Passports:  85%|████████▍ | 215/254 [00:33<00:08,  4.69it/s]"
          ]
        },
        {
          "output_type": "stream",
          "name": "stdout",
          "text": [
            "Error decoding __MACOSX/Passports/._p_2204_293249-2.png\n"
          ]
        },
        {
          "output_type": "stream",
          "name": "stderr",
          "text": [
            "Extracting P_Passports:  86%|████████▌ | 219/254 [00:34<00:06,  5.35it/s]"
          ]
        },
        {
          "output_type": "stream",
          "name": "stdout",
          "text": [
            "Error decoding __MACOSX/Passports/._p_2214_383071-2.png\n",
            "Error decoding __MACOSX/Passports/._p_2617_702573-1.png\n"
          ]
        },
        {
          "output_type": "stream",
          "name": "stderr",
          "text": [
            "Extracting P_Passports:  88%|████████▊ | 223/254 [00:34<00:03,  7.94it/s]"
          ]
        },
        {
          "output_type": "stream",
          "name": "stdout",
          "text": [
            "Error decoding __MACOSX/Passports/._p_3609_052581-2.png\n",
            "Error decoding __MACOSX/Passports/._p_1713_314231-1.png\n"
          ]
        },
        {
          "output_type": "stream",
          "name": "stderr",
          "text": [
            "\rExtracting P_Passports:  89%|████████▊ | 225/254 [00:35<00:06,  4.35it/s]"
          ]
        },
        {
          "output_type": "stream",
          "name": "stdout",
          "text": [
            "Error decoding __MACOSX/Passports/._p_0309_410875-2.png\n"
          ]
        },
        {
          "output_type": "stream",
          "name": "stderr",
          "text": [
            "\rExtracting P_Passports:  89%|████████▉ | 227/254 [00:36<00:06,  4.45it/s]"
          ]
        },
        {
          "output_type": "stream",
          "name": "stdout",
          "text": [
            "Error decoding __MACOSX/Passports/._p_6808_526544-2.png\n"
          ]
        },
        {
          "output_type": "stream",
          "name": "stderr",
          "text": [
            "\rExtracting P_Passports:  90%|█████████ | 229/254 [00:37<00:09,  2.78it/s]"
          ]
        },
        {
          "output_type": "stream",
          "name": "stdout",
          "text": [
            "Error decoding __MACOSX/Passports/._p_2204_293249-1.png\n"
          ]
        },
        {
          "output_type": "stream",
          "name": "stderr",
          "text": [
            "Extracting P_Passports:  93%|█████████▎| 235/254 [00:38<00:03,  5.43it/s]"
          ]
        },
        {
          "output_type": "stream",
          "name": "stdout",
          "text": [
            "Error decoding __MACOSX/Passports/._p_2214_383071-1.png\n",
            "Error decoding __MACOSX/Passports/._p_2617_702573-2.png\n",
            "Error decoding __MACOSX/Passports/._p_1713_314231-2.png\n"
          ]
        },
        {
          "output_type": "stream",
          "name": "stderr",
          "text": [
            "\rExtracting P_Passports:  93%|█████████▎| 237/254 [00:38<00:02,  6.58it/s]"
          ]
        },
        {
          "output_type": "stream",
          "name": "stdout",
          "text": [
            "Error decoding __MACOSX/Passports/._p_3609_052581-1.png\n"
          ]
        },
        {
          "output_type": "stream",
          "name": "stderr",
          "text": [
            "\rExtracting P_Passports:  94%|█████████▍| 239/254 [00:38<00:02,  5.13it/s]"
          ]
        },
        {
          "output_type": "stream",
          "name": "stdout",
          "text": [
            "Error decoding __MACOSX/Passports/._p_0309_410875-1.png\n"
          ]
        },
        {
          "output_type": "stream",
          "name": "stderr",
          "text": [
            "Extracting P_Passports:  96%|█████████▌| 243/254 [00:39<00:02,  5.38it/s]"
          ]
        },
        {
          "output_type": "stream",
          "name": "stdout",
          "text": [
            "Error decoding __MACOSX/Passports/._p_3604_476283-1.png\n",
            "Error decoding __MACOSX/Passports/._p_4018_133136-2.png\n"
          ]
        },
        {
          "output_type": "stream",
          "name": "stderr",
          "text": [
            "\rExtracting P_Passports:  96%|█████████▋| 245/254 [00:39<00:01,  6.80it/s]"
          ]
        },
        {
          "output_type": "stream",
          "name": "stdout",
          "text": [
            "Error decoding __MACOSX/Passports/._p_6108_483352-1.png\n",
            "Error decoding __MACOSX/Passports/._p_5403_590884-1.png\n"
          ]
        },
        {
          "output_type": "stream",
          "name": "stderr",
          "text": [
            "Extracting P_Passports: 100%|██████████| 254/254 [00:40<00:00,  6.25it/s]\n"
          ]
        },
        {
          "output_type": "stream",
          "name": "stdout",
          "text": [
            "Error decoding __MACOSX/Passports/._p_3604_476283-2.png\n",
            "Error decoding __MACOSX/Passports/._p_4018_133136-1.png\n",
            "Error decoding __MACOSX/Passports/._p_5403_590884-2.png\n"
          ]
        },
        {
          "output_type": "stream",
          "name": "stderr",
          "text": [
            "\rExtracting P_STS:   0%|          | 0/260 [00:00<?, ?it/s]"
          ]
        },
        {
          "output_type": "stream",
          "name": "stdout",
          "text": [
            "Error decoding __MACOSX/._STS\n",
            "Error decoding __MACOSX/STS/._s_9908_736058-2.png\n"
          ]
        },
        {
          "output_type": "stream",
          "name": "stderr",
          "text": [
            "\rExtracting P_STS:   2%|▏         | 5/260 [00:00<00:24, 10.44it/s]"
          ]
        },
        {
          "output_type": "stream",
          "name": "stdout",
          "text": [
            "Error decoding __MACOSX/STS/._s_9903_499364-2.png\n",
            "Error decoding __MACOSX/STS/._s_6113_875935-2.png\n"
          ]
        },
        {
          "output_type": "stream",
          "name": "stderr",
          "text": [
            "\rExtracting P_STS:   3%|▎         | 9/260 [00:00<00:20, 12.17it/s]"
          ]
        },
        {
          "output_type": "stream",
          "name": "stdout",
          "text": [
            "Error decoding __MACOSX/STS/._s_9902_270758-1.png\n"
          ]
        },
        {
          "output_type": "stream",
          "name": "stderr",
          "text": [
            "\rExtracting P_STS:   4%|▍         | 11/260 [00:00<00:22, 11.08it/s]"
          ]
        },
        {
          "output_type": "stream",
          "name": "stdout",
          "text": [
            "Error decoding __MACOSX/STS/._s_9906_136754-2.png\n",
            "Error decoding __MACOSX/STS/._s_9908_736058-1.png\n"
          ]
        },
        {
          "output_type": "stream",
          "name": "stderr",
          "text": [
            "\rExtracting P_STS:   6%|▌         | 15/260 [00:01<00:25,  9.43it/s]"
          ]
        },
        {
          "output_type": "stream",
          "name": "stdout",
          "text": [
            "Error decoding __MACOSX/STS/._s_9903_499364-1.png\n",
            "Error decoding __MACOSX/STS/._s_6113_875935-1.png\n"
          ]
        },
        {
          "output_type": "stream",
          "name": "stderr",
          "text": [
            "Extracting P_STS:   8%|▊         | 21/260 [00:01<00:22, 10.56it/s]"
          ]
        },
        {
          "output_type": "stream",
          "name": "stdout",
          "text": [
            "Error decoding __MACOSX/STS/._s_9902_270758-2.png\n",
            "Error decoding __MACOSX/STS/._s_9906_136754-1.png\n"
          ]
        },
        {
          "output_type": "stream",
          "name": "stderr",
          "text": [
            "\rExtracting P_STS:  10%|▉         | 25/260 [00:02<00:18, 12.87it/s]"
          ]
        },
        {
          "output_type": "stream",
          "name": "stdout",
          "text": [
            "Error decoding __MACOSX/STS/._s_6121_777874-1.png\n",
            "Error decoding __MACOSX/STS/._s_9900_416742-2.png\n"
          ]
        },
        {
          "output_type": "stream",
          "name": "stderr",
          "text": [
            "Extracting P_STS:  12%|█▏        | 31/260 [00:02<00:15, 14.53it/s]"
          ]
        },
        {
          "output_type": "stream",
          "name": "stdout",
          "text": [
            "Error decoding __MACOSX/STS/._s_1044_623023-1.png\n",
            "Error decoding STS/.DS_Store\n",
            "Error decoding __MACOSX/STS/._.DS_Store\n",
            "Error decoding __MACOSX/STS/._s_6313_214746-1.png\n",
            "Error decoding __MACOSX/STS/._s_5246_563058-1.png\n"
          ]
        },
        {
          "output_type": "stream",
          "name": "stderr",
          "text": [
            "Extracting P_STS:  14%|█▍        | 37/260 [00:03<00:19, 11.69it/s]"
          ]
        },
        {
          "output_type": "stream",
          "name": "stdout",
          "text": [
            "Error decoding __MACOSX/STS/._s_5714_381782-1.png\n",
            "Error decoding __MACOSX/STS/._s_7753_528041-2.png\n"
          ]
        },
        {
          "output_type": "stream",
          "name": "stderr",
          "text": [
            "Extracting P_STS:  17%|█▋        | 43/260 [00:03<00:16, 12.87it/s]"
          ]
        },
        {
          "output_type": "stream",
          "name": "stdout",
          "text": [
            "Error decoding __MACOSX/STS/._s_9903_611362-1.png\n",
            "Error decoding __MACOSX/STS/._s_6121_777874-2.png\n",
            "Error decoding __MACOSX/STS/._s_9900_416742-1.png\n"
          ]
        },
        {
          "output_type": "stream",
          "name": "stderr",
          "text": [
            "\rExtracting P_STS:  17%|█▋        | 45/260 [00:03<00:16, 13.04it/s]"
          ]
        },
        {
          "output_type": "stream",
          "name": "stdout",
          "text": [
            "Error decoding __MACOSX/STS/._s_6313_214746-2.png\n"
          ]
        },
        {
          "output_type": "stream",
          "name": "stderr",
          "text": [
            "\rExtracting P_STS:  18%|█▊        | 47/260 [00:04<00:18, 11.44it/s]"
          ]
        },
        {
          "output_type": "stream",
          "name": "stdout",
          "text": [
            "Error decoding __MACOSX/STS/._s_1044_623023-2.png\n",
            "Error decoding __MACOSX/STS/._s_5246_563058-2.png\n"
          ]
        },
        {
          "output_type": "stream",
          "name": "stderr",
          "text": [
            "\rExtracting P_STS:  20%|█▉        | 51/260 [00:04<00:21,  9.82it/s]"
          ]
        },
        {
          "output_type": "stream",
          "name": "stdout",
          "text": [
            "Error decoding __MACOSX/STS/._s_5714_381782-2.png\n"
          ]
        },
        {
          "output_type": "stream",
          "name": "stderr",
          "text": [
            "Extracting P_STS:  21%|██        | 55/260 [00:04<00:20,  9.90it/s]"
          ]
        },
        {
          "output_type": "stream",
          "name": "stdout",
          "text": [
            "Error decoding __MACOSX/STS/._s_9903_611362-2.png\n",
            "Error decoding __MACOSX/STS/._s_7753_528041-1.png\n",
            "Error decoding __MACOSX/STS/._s_9915_349336-2.png\n",
            "Error decoding __MACOSX/STS/._s_5740_533644-1.png\n"
          ]
        },
        {
          "output_type": "stream",
          "name": "stderr",
          "text": [
            "Extracting P_STS:  24%|██▍       | 63/260 [00:05<00:18, 10.82it/s]"
          ]
        },
        {
          "output_type": "stream",
          "name": "stdout",
          "text": [
            "Error decoding __MACOSX/STS/._s_9903_499320-1.png\n",
            "Error decoding __MACOSX/STS/._s_34╨á╨£_474752-2.png\n"
          ]
        },
        {
          "output_type": "stream",
          "name": "stderr",
          "text": [
            "\rExtracting P_STS:  25%|██▌       | 65/260 [00:05<00:17, 11.24it/s]"
          ]
        },
        {
          "output_type": "stream",
          "name": "stdout",
          "text": [
            "Error decoding __MACOSX/STS/._s_7760_941444-2.png\n"
          ]
        },
        {
          "output_type": "stream",
          "name": "stderr",
          "text": [
            "\rExtracting P_STS:  26%|██▌       | 67/260 [00:06<00:26,  7.17it/s]"
          ]
        },
        {
          "output_type": "stream",
          "name": "stdout",
          "text": [
            "Error decoding __MACOSX/STS/._s_4020_031487-1.png\n"
          ]
        },
        {
          "output_type": "stream",
          "name": "stderr",
          "text": [
            "\rExtracting P_STS:  27%|██▋       | 69/260 [00:07<00:51,  3.73it/s]"
          ]
        },
        {
          "output_type": "stream",
          "name": "stdout",
          "text": [
            "Error decoding __MACOSX/STS/._s_9915_577327-1.png\n"
          ]
        },
        {
          "output_type": "stream",
          "name": "stderr",
          "text": [
            "\rExtracting P_STS:  27%|██▋       | 71/260 [00:08<00:52,  3.59it/s]"
          ]
        },
        {
          "output_type": "stream",
          "name": "stdout",
          "text": [
            "Error decoding __MACOSX/STS/._s_0247_969201-2.png\n",
            "Error decoding __MACOSX/STS/._s_34╨ó╨á_190239_1.png\n"
          ]
        },
        {
          "output_type": "stream",
          "name": "stderr",
          "text": [
            "Extracting P_STS:  30%|███       | 79/260 [00:08<00:22,  8.01it/s]"
          ]
        },
        {
          "output_type": "stream",
          "name": "stdout",
          "text": [
            "Error decoding __MACOSX/STS/._s_9912_835963-2.png\n",
            "Error decoding __MACOSX/STS/._s_9915_349336-1.png\n",
            "Error decoding __MACOSX/STS/._s_5740_533644-2.png\n"
          ]
        },
        {
          "output_type": "stream",
          "name": "stderr",
          "text": [
            "\rExtracting P_STS:  31%|███       | 81/260 [00:09<00:29,  6.10it/s]"
          ]
        },
        {
          "output_type": "stream",
          "name": "stdout",
          "text": [
            "Error decoding __MACOSX/STS/._s_9903_499320-2.png\n"
          ]
        },
        {
          "output_type": "stream",
          "name": "stderr",
          "text": [
            "\rExtracting P_STS:  32%|███▏      | 83/260 [00:09<00:27,  6.49it/s]"
          ]
        },
        {
          "output_type": "stream",
          "name": "stdout",
          "text": [
            "Error decoding __MACOSX/STS/._s_34╨á╨£_474752-1.png\n"
          ]
        },
        {
          "output_type": "stream",
          "name": "stderr",
          "text": [
            "\rExtracting P_STS:  33%|███▎      | 85/260 [00:09<00:25,  6.90it/s]"
          ]
        },
        {
          "output_type": "stream",
          "name": "stdout",
          "text": [
            "Error decoding __MACOSX/STS/._s_7760_941444-1.png\n"
          ]
        },
        {
          "output_type": "stream",
          "name": "stderr",
          "text": [
            "\rExtracting P_STS:  33%|███▎      | 87/260 [00:10<00:36,  4.73it/s]"
          ]
        },
        {
          "output_type": "stream",
          "name": "stdout",
          "text": [
            "Error decoding __MACOSX/STS/._s_4020_031487-2.png\n"
          ]
        },
        {
          "output_type": "stream",
          "name": "stderr",
          "text": [
            "\rExtracting P_STS:  34%|███▍      | 89/260 [00:11<00:53,  3.22it/s]"
          ]
        },
        {
          "output_type": "stream",
          "name": "stdout",
          "text": [
            "Error decoding __MACOSX/STS/._s_9915_577327-2.png\n"
          ]
        },
        {
          "output_type": "stream",
          "name": "stderr",
          "text": [
            "Extracting P_STS:  37%|███▋      | 95/260 [00:12<00:29,  5.68it/s]"
          ]
        },
        {
          "output_type": "stream",
          "name": "stdout",
          "text": [
            "Error decoding __MACOSX/STS/._s_0247_969201-1.png\n",
            "Error decoding __MACOSX/STS/._s_34╨ó╨á_190239_2.png\n",
            "Error decoding __MACOSX/STS/._s_9912_835963-1.png\n"
          ]
        },
        {
          "output_type": "stream",
          "name": "stderr",
          "text": [
            "Extracting P_STS:  38%|███▊      | 99/260 [00:12<00:20,  7.72it/s]"
          ]
        },
        {
          "output_type": "stream",
          "name": "stdout",
          "text": [
            "Error decoding __MACOSX/STS/._s_52╨Ñ╨ú_654121-1.png\n",
            "Error decoding __MACOSX/STS/._s_9900_416743-1.png\n",
            "Error decoding __MACOSX/STS/._s_9914_098751-1.png\n"
          ]
        },
        {
          "output_type": "stream",
          "name": "stderr",
          "text": [
            "\rExtracting P_STS:  40%|███▉      | 103/260 [00:14<00:35,  4.41it/s]"
          ]
        },
        {
          "output_type": "stream",
          "name": "stdout",
          "text": [
            "Error decoding __MACOSX/STS/._s_9916_991351-1.png\n",
            "Error decoding __MACOSX/STS/._s_9910_058392-2.png\n"
          ]
        },
        {
          "output_type": "stream",
          "name": "stderr",
          "text": [
            "\rExtracting P_STS:  41%|████      | 107/260 [00:14<00:28,  5.35it/s]"
          ]
        },
        {
          "output_type": "stream",
          "name": "stdout",
          "text": [
            "Error decoding __MACOSX/STS/._s_9911_961414-1.png\n"
          ]
        },
        {
          "output_type": "stream",
          "name": "stderr",
          "text": [
            "\rExtracting P_STS:  42%|████▏     | 109/260 [00:14<00:28,  5.21it/s]"
          ]
        },
        {
          "output_type": "stream",
          "name": "stdout",
          "text": [
            "Error decoding __MACOSX/STS/._s_3447_440168-2.png\n"
          ]
        },
        {
          "output_type": "stream",
          "name": "stderr",
          "text": [
            "Extracting P_STS:  43%|████▎     | 113/260 [00:15<00:24,  6.10it/s]"
          ]
        },
        {
          "output_type": "stream",
          "name": "stdout",
          "text": [
            "Error decoding __MACOSX/STS/._s_7347_185582-1.png\n",
            "Error decoding __MACOSX/STS/._s_52╨Ñ╨ú_654121-2.png\n"
          ]
        },
        {
          "output_type": "stream",
          "name": "stderr",
          "text": [
            "\rExtracting P_STS:  44%|████▍     | 115/260 [00:15<00:20,  7.24it/s]"
          ]
        },
        {
          "output_type": "stream",
          "name": "stdout",
          "text": [
            "Error decoding __MACOSX/STS/._s_9900_416743-2.png\n",
            "Error decoding __MACOSX/STS/._s_9914_098751-2.png\n"
          ]
        },
        {
          "output_type": "stream",
          "name": "stderr",
          "text": [
            "\rExtracting P_STS:  46%|████▌     | 119/260 [00:17<00:33,  4.15it/s]"
          ]
        },
        {
          "output_type": "stream",
          "name": "stdout",
          "text": [
            "Error decoding __MACOSX/STS/._s_9916_991351-2.png\n",
            "Error decoding __MACOSX/STS/._s_9910_058392-1.png\n"
          ]
        },
        {
          "output_type": "stream",
          "name": "stderr",
          "text": [
            "\rExtracting P_STS:  47%|████▋     | 123/260 [00:17<00:26,  5.11it/s]"
          ]
        },
        {
          "output_type": "stream",
          "name": "stdout",
          "text": [
            "Error decoding __MACOSX/STS/._s_9911_961414-2.png\n"
          ]
        },
        {
          "output_type": "stream",
          "name": "stderr",
          "text": [
            "\rExtracting P_STS:  48%|████▊     | 125/260 [00:18<00:26,  5.07it/s]"
          ]
        },
        {
          "output_type": "stream",
          "name": "stdout",
          "text": [
            "Error decoding __MACOSX/STS/._s_3447_440168-1.png\n"
          ]
        },
        {
          "output_type": "stream",
          "name": "stderr",
          "text": [
            "\rExtracting P_STS:  49%|████▉     | 127/260 [00:18<00:25,  5.30it/s]"
          ]
        },
        {
          "output_type": "stream",
          "name": "stdout",
          "text": [
            "Error decoding __MACOSX/STS/._s_7347_185582-2.png\n"
          ]
        },
        {
          "output_type": "stream",
          "name": "stderr",
          "text": [
            "\rExtracting P_STS:  50%|████▉     | 129/260 [00:19<00:32,  4.01it/s]"
          ]
        },
        {
          "output_type": "stream",
          "name": "stdout",
          "text": [
            "Error decoding __MACOSX/STS/._s_9901_158788-2.png\n"
          ]
        },
        {
          "output_type": "stream",
          "name": "stderr",
          "text": [
            "\rExtracting P_STS:  50%|█████     | 131/260 [00:19<00:28,  4.57it/s]"
          ]
        },
        {
          "output_type": "stream",
          "name": "stdout",
          "text": [
            "Error decoding __MACOSX/STS/._s_52╨Ñ╨ò_654121-2.png\n"
          ]
        },
        {
          "output_type": "stream",
          "name": "stderr",
          "text": [
            "Extracting P_STS:  52%|█████▏    | 135/260 [00:20<00:21,  5.76it/s]"
          ]
        },
        {
          "output_type": "stream",
          "name": "stdout",
          "text": [
            "Error decoding __MACOSX/STS/._s_3402_113445-2.png\n",
            "Error decoding __MACOSX/STS/._s_3449_518592-2.png\n"
          ]
        },
        {
          "output_type": "stream",
          "name": "stderr",
          "text": [
            "Extracting P_STS:  53%|█████▎    | 139/260 [00:20<00:21,  5.73it/s]"
          ]
        },
        {
          "output_type": "stream",
          "name": "stdout",
          "text": [
            "Error decoding __MACOSX/STS/._s_9906316594-1.png\n",
            "Error decoding __MACOSX/STS/._s_5219_377407-2.png\n",
            "Error decoding __MACOSX/STS/._s_3418_936847-1.png\n"
          ]
        },
        {
          "output_type": "stream",
          "name": "stderr",
          "text": [
            "\rExtracting P_STS:  55%|█████▌    | 143/260 [00:21<00:18,  6.31it/s]"
          ]
        },
        {
          "output_type": "stream",
          "name": "stdout",
          "text": [
            "Error decoding __MACOSX/STS/._s_5246_551587-1.png\n"
          ]
        },
        {
          "output_type": "stream",
          "name": "stderr",
          "text": [
            "\rExtracting P_STS:  56%|█████▌    | 145/260 [00:21<00:17,  6.57it/s]"
          ]
        },
        {
          "output_type": "stream",
          "name": "stdout",
          "text": [
            "Error decoding __MACOSX/STS/._s_9906_169314-2.png\n"
          ]
        },
        {
          "output_type": "stream",
          "name": "stderr",
          "text": [
            "\rExtracting P_STS:  57%|█████▋    | 147/260 [00:22<00:23,  4.90it/s]"
          ]
        },
        {
          "output_type": "stream",
          "name": "stdout",
          "text": [
            "Error decoding __MACOSX/STS/._s_5717_943303-2.png\n"
          ]
        },
        {
          "output_type": "stream",
          "name": "stderr",
          "text": [
            "Extracting P_STS:  58%|█████▊    | 151/260 [00:22<00:16,  6.47it/s]"
          ]
        },
        {
          "output_type": "stream",
          "name": "stdout",
          "text": [
            "Error decoding __MACOSX/STS/._s_3740_515009-2.png\n",
            "Error decoding __MACOSX/STS/._s_9908_355932-1.png\n"
          ]
        },
        {
          "output_type": "stream",
          "name": "stderr",
          "text": [
            "\rExtracting P_STS:  59%|█████▉    | 153/260 [00:24<00:31,  3.36it/s]"
          ]
        },
        {
          "output_type": "stream",
          "name": "stdout",
          "text": [
            "Error decoding __MACOSX/STS/._s_9901_158788-1.png\n"
          ]
        },
        {
          "output_type": "stream",
          "name": "stderr",
          "text": [
            "\rExtracting P_STS:  60%|█████▉    | 155/260 [00:24<00:28,  3.62it/s]"
          ]
        },
        {
          "output_type": "stream",
          "name": "stdout",
          "text": [
            "Error decoding __MACOSX/STS/._s_52╨Ñ╨ò_654121-1.png\n"
          ]
        },
        {
          "output_type": "stream",
          "name": "stderr",
          "text": [
            "\rExtracting P_STS:  60%|██████    | 157/260 [00:25<00:30,  3.42it/s]"
          ]
        },
        {
          "output_type": "stream",
          "name": "stdout",
          "text": [
            "Error decoding __MACOSX/STS/._s_3402_113445-1.png\n"
          ]
        },
        {
          "output_type": "stream",
          "name": "stderr",
          "text": [
            "\rExtracting P_STS:  61%|██████    | 159/260 [00:25<00:29,  3.47it/s]"
          ]
        },
        {
          "output_type": "stream",
          "name": "stdout",
          "text": [
            "Error decoding __MACOSX/STS/._s_3449_518592-1.png\n"
          ]
        },
        {
          "output_type": "stream",
          "name": "stderr",
          "text": [
            "Extracting P_STS:  63%|██████▎   | 163/260 [00:26<00:22,  4.38it/s]"
          ]
        },
        {
          "output_type": "stream",
          "name": "stdout",
          "text": [
            "Error decoding __MACOSX/STS/._s_9906316594-2.png\n",
            "Error decoding __MACOSX/STS/._s_5219_377407-1.png\n"
          ]
        },
        {
          "output_type": "stream",
          "name": "stderr",
          "text": [
            "\rExtracting P_STS:  63%|██████▎   | 165/260 [00:26<00:20,  4.57it/s]"
          ]
        },
        {
          "output_type": "stream",
          "name": "stdout",
          "text": [
            "Error decoding __MACOSX/STS/._s_5246_551587-2.png\n",
            "Error decoding __MACOSX/STS/._s_3418_936847-2.png\n"
          ]
        },
        {
          "output_type": "stream",
          "name": "stderr",
          "text": [
            "\rExtracting P_STS:  65%|██████▌   | 169/260 [00:27<00:13,  6.95it/s]"
          ]
        },
        {
          "output_type": "stream",
          "name": "stdout",
          "text": [
            "Error decoding __MACOSX/STS/._s_9906_169314-1.png\n"
          ]
        },
        {
          "output_type": "stream",
          "name": "stderr",
          "text": [
            "Extracting P_STS:  67%|██████▋   | 173/260 [00:27<00:12,  6.90it/s]"
          ]
        },
        {
          "output_type": "stream",
          "name": "stdout",
          "text": [
            "Error decoding __MACOSX/STS/._s_5717_943303-1.png\n",
            "Error decoding __MACOSX/STS/._s_3740_515009-1.png\n"
          ]
        },
        {
          "output_type": "stream",
          "name": "stderr",
          "text": [
            "Extracting P_STS:  68%|██████▊   | 177/260 [00:27<00:08,  9.59it/s]"
          ]
        },
        {
          "output_type": "stream",
          "name": "stdout",
          "text": [
            "Error decoding __MACOSX/STS/._s_9908_355932-2.png\n",
            "Error decoding __MACOSX/STS/._s_5246_538516-1.png\n"
          ]
        },
        {
          "output_type": "stream",
          "name": "stderr",
          "text": [
            "Extracting P_STS:  70%|███████   | 183/260 [00:28<00:04, 15.49it/s]"
          ]
        },
        {
          "output_type": "stream",
          "name": "stdout",
          "text": [
            "Error decoding __MACOSX/STS/._s_9907_273298-1.png\n",
            "Error decoding __MACOSX/STS/._s_9906_090018-1.png\n",
            "Error decoding __MACOSX/STS/._s_9906_0908900-1.png\n",
            "Error decoding __MACOSX/STS/._s_9908_105323-1.png\n"
          ]
        },
        {
          "output_type": "stream",
          "name": "stderr",
          "text": [
            "Extracting P_STS:  73%|███████▎  | 189/260 [00:29<00:10,  6.98it/s]"
          ]
        },
        {
          "output_type": "stream",
          "name": "stdout",
          "text": [
            "Error decoding __MACOSX/STS/._s_3447_441860-1.png\n",
            "Error decoding __MACOSX/STS/._s_5246_538516-2.png\n"
          ]
        },
        {
          "output_type": "stream",
          "name": "stderr",
          "text": [
            "Extracting P_STS:  75%|███████▌  | 195/260 [00:29<00:05, 11.55it/s]"
          ]
        },
        {
          "output_type": "stream",
          "name": "stdout",
          "text": [
            "Error decoding __MACOSX/STS/._s_9907_273298-2.png\n",
            "Error decoding __MACOSX/STS/._s_9906_0908900-2.png\n",
            "Error decoding __MACOSX/STS/._s_9906_090018-2.png\n"
          ]
        },
        {
          "output_type": "stream",
          "name": "stderr",
          "text": [
            "\rExtracting P_STS:  76%|███████▌  | 197/260 [00:29<00:04, 12.74it/s]"
          ]
        },
        {
          "output_type": "stream",
          "name": "stdout",
          "text": [
            "Error decoding __MACOSX/STS/._s_9908_105323-2.png\n"
          ]
        },
        {
          "output_type": "stream",
          "name": "stderr",
          "text": [
            "Extracting P_STS:  77%|███████▋  | 201/260 [00:31<00:10,  5.89it/s]"
          ]
        },
        {
          "output_type": "stream",
          "name": "stdout",
          "text": [
            "Error decoding __MACOSX/STS/._s_3447_441860-2.png\n",
            "Error decoding __MACOSX/STS/._s_9909_029983-1.png\n"
          ]
        },
        {
          "output_type": "stream",
          "name": "stderr",
          "text": [
            "Extracting P_STS:  79%|███████▉  | 205/260 [00:31<00:08,  6.65it/s]"
          ]
        },
        {
          "output_type": "stream",
          "name": "stdout",
          "text": [
            "Error decoding __MACOSX/STS/._s_5246_582919-2.png\n",
            "Error decoding __MACOSX/STS/._s_52╨ú╨ú_105916-2.png\n",
            "Error decoding __MACOSX/STS/._s_3457_597732-1.png\n"
          ]
        },
        {
          "output_type": "stream",
          "name": "stderr",
          "text": [
            "Extracting P_STS:  81%|████████  | 211/260 [00:32<00:05,  9.60it/s]"
          ]
        },
        {
          "output_type": "stream",
          "name": "stdout",
          "text": [
            "Error decoding __MACOSX/STS/._s_5221_923590-2.png\n",
            "Error decoding __MACOSX/STS/._s_9915_112273-2.png\n"
          ]
        },
        {
          "output_type": "stream",
          "name": "stderr",
          "text": [
            "\rExtracting P_STS:  82%|████████▏ | 213/260 [00:32<00:04, 10.00it/s]"
          ]
        },
        {
          "output_type": "stream",
          "name": "stdout",
          "text": [
            "Error decoding __MACOSX/STS/._s_5236_509621-2.png\n"
          ]
        },
        {
          "output_type": "stream",
          "name": "stderr",
          "text": [
            "Extracting P_STS:  83%|████████▎ | 217/260 [00:32<00:04, 10.42it/s]"
          ]
        },
        {
          "output_type": "stream",
          "name": "stdout",
          "text": [
            "Error decoding __MACOSX/STS/._s_9904_597564-2.png\n",
            "Error decoding __MACOSX/STS/._s_7147_313035-1.png\n"
          ]
        },
        {
          "output_type": "stream",
          "name": "stderr",
          "text": [
            "\rExtracting P_STS:  84%|████████▍ | 219/260 [00:33<00:03, 11.88it/s]"
          ]
        },
        {
          "output_type": "stream",
          "name": "stdout",
          "text": [
            "Error decoding __MACOSX/STS/._s_9909_029983-2.png\n"
          ]
        },
        {
          "output_type": "stream",
          "name": "stderr",
          "text": [
            "Extracting P_STS:  86%|████████▌ | 223/260 [00:33<00:04,  9.24it/s]"
          ]
        },
        {
          "output_type": "stream",
          "name": "stdout",
          "text": [
            "Error decoding __MACOSX/STS/._s_5246_582919-1.png\n",
            "Error decoding __MACOSX/STS/._s_52╨ú╨ú_105916-1.png\n",
            "Error decoding __MACOSX/STS/._s_3457_597732-2.png\n"
          ]
        },
        {
          "output_type": "stream",
          "name": "stderr",
          "text": [
            "Extracting P_STS:  88%|████████▊ | 229/260 [00:33<00:02, 11.73it/s]"
          ]
        },
        {
          "output_type": "stream",
          "name": "stdout",
          "text": [
            "Error decoding __MACOSX/STS/._s_5221_923590-1.png\n",
            "Error decoding __MACOSX/STS/._s_9915_112273-1.png\n"
          ]
        },
        {
          "output_type": "stream",
          "name": "stderr",
          "text": [
            "Extracting P_STS:  90%|████████▉ | 233/260 [00:34<00:02, 11.19it/s]"
          ]
        },
        {
          "output_type": "stream",
          "name": "stdout",
          "text": [
            "Error decoding __MACOSX/STS/._s_9904_597564-1.png\n",
            "Error decoding __MACOSX/STS/._s_5236_509621-1.png\n"
          ]
        },
        {
          "output_type": "stream",
          "name": "stderr",
          "text": [
            "Extracting P_STS:  91%|█████████ | 237/260 [00:34<00:02, 11.14it/s]"
          ]
        },
        {
          "output_type": "stream",
          "name": "stdout",
          "text": [
            "Error decoding __MACOSX/STS/._s_7147_313035-2.png\n",
            "Error decoding __MACOSX/STS/._s_5250_652301-2.png\n"
          ]
        },
        {
          "output_type": "stream",
          "name": "stderr",
          "text": [
            "\rExtracting P_STS:  92%|█████████▏| 239/260 [00:34<00:01, 12.28it/s]"
          ]
        },
        {
          "output_type": "stream",
          "name": "stdout",
          "text": [
            "Error decoding __MACOSX/STS/._s_3452_191266-1.png\n"
          ]
        },
        {
          "output_type": "stream",
          "name": "stderr",
          "text": [
            "\rExtracting P_STS:  93%|█████████▎| 241/260 [00:35<00:02,  7.95it/s]"
          ]
        },
        {
          "output_type": "stream",
          "name": "stdout",
          "text": [
            "Error decoding __MACOSX/STS/._s_9908_448559-2.png\n"
          ]
        },
        {
          "output_type": "stream",
          "name": "stderr",
          "text": [
            "\rExtracting P_STS:  93%|█████████▎| 243/260 [00:37<00:06,  2.80it/s]"
          ]
        },
        {
          "output_type": "stream",
          "name": "stdout",
          "text": [
            "Error decoding __MACOSX/STS/._s_9906_048392-2.png\n"
          ]
        },
        {
          "output_type": "stream",
          "name": "stderr",
          "text": [
            "\rExtracting P_STS:  94%|█████████▍| 245/260 [00:37<00:04,  3.52it/s]"
          ]
        },
        {
          "output_type": "stream",
          "name": "stdout",
          "text": [
            "Error decoding __MACOSX/STS/._s_2157_190808-2.png\n"
          ]
        },
        {
          "output_type": "stream",
          "name": "stderr",
          "text": [
            "\rExtracting P_STS:  95%|█████████▌| 247/260 [00:37<00:03,  3.94it/s]"
          ]
        },
        {
          "output_type": "stream",
          "name": "stdout",
          "text": [
            "Error decoding __MACOSX/STS/._s_5225_201384-1.png\n"
          ]
        },
        {
          "output_type": "stream",
          "name": "stderr",
          "text": [
            "Extracting P_STS:  97%|█████████▋| 251/260 [00:38<00:01,  5.84it/s]"
          ]
        },
        {
          "output_type": "stream",
          "name": "stdout",
          "text": [
            "Error decoding __MACOSX/STS/._s_5250_652301-1.png\n",
            "Error decoding __MACOSX/STS/._s_3452_191266-2.png\n"
          ]
        },
        {
          "output_type": "stream",
          "name": "stderr",
          "text": [
            "\rExtracting P_STS:  97%|█████████▋| 253/260 [00:38<00:01,  4.63it/s]"
          ]
        },
        {
          "output_type": "stream",
          "name": "stdout",
          "text": [
            "Error decoding __MACOSX/STS/._s_9908_448559-1.png\n"
          ]
        },
        {
          "output_type": "stream",
          "name": "stderr",
          "text": [
            "\rExtracting P_STS:  98%|█████████▊| 255/260 [00:38<00:00,  5.45it/s]"
          ]
        },
        {
          "output_type": "stream",
          "name": "stdout",
          "text": [
            "Error decoding __MACOSX/STS/._s_2157_190808-1.png\n"
          ]
        },
        {
          "output_type": "stream",
          "name": "stderr",
          "text": [
            "\rExtracting P_STS:  99%|█████████▉| 257/260 [00:40<00:01,  2.63it/s]"
          ]
        },
        {
          "output_type": "stream",
          "name": "stdout",
          "text": [
            "Error decoding __MACOSX/STS/._s_9906_048392-1.png\n"
          ]
        },
        {
          "output_type": "stream",
          "name": "stderr",
          "text": [
            "Extracting P_STS: 100%|██████████| 260/260 [00:40<00:00,  6.36it/s]\n"
          ]
        },
        {
          "output_type": "stream",
          "name": "stdout",
          "text": [
            "Error decoding __MACOSX/STS/._s_5225_201384-2.png\n"
          ]
        }
      ]
    },
    {
      "cell_type": "code",
      "source": [
        "import os\n",
        "import numpy as np\n",
        "from sklearn.model_selection import train_test_split\n",
        "from keras.preprocessing.image import ImageDataGenerator, load_img, img_to_array\n",
        "\n",
        "# Путь к директории с данными\n",
        "data_dir = 'data'\n",
        "\n",
        "# Параметры для разделения данных\n",
        "test_size = 0.2\n",
        "val_size = 0.2\n",
        "\n",
        "# Параметры предобработки изображений\n",
        "img_size = (224, 224)\n",
        "batch_size = 32\n",
        "\n",
        "# Создание списков путей к изображениям и классов\n",
        "image_paths = []\n",
        "image_classes = []\n",
        "\n",
        "for class_idx, class_name in enumerate(['P_Drivers', 'P_PTS', 'P_Passports', 'P_STS']):\n",
        "    class_dir = os.path.join(data_dir, class_name)\n",
        "    for img_path in os.listdir(class_dir):\n",
        "        image_paths.append(os.path.join(class_dir, img_path))\n",
        "        image_classes.append(class_idx)\n",
        "\n",
        "# Преобразование списков в numpy массивы\n",
        "image_paths = np.array(image_paths)\n",
        "image_classes = np.array(image_classes)\n",
        "\n",
        "# Разделение данных на обучающий, валидационный и тестовый наборы\n",
        "X_train, X_test, y_train, y_test = train_test_split(image_paths, image_classes, test_size=test_size, stratify=image_classes)\n",
        "X_train, X_val, y_train, y_val = train_test_split(X_train, y_train, test_size=val_size/(1-test_size), stratify=y_train)\n",
        "\n",
        "# Генератор данных для предобработки и аугментации изображений\n",
        "data_gen = ImageDataGenerator(\n",
        "    rescale=1./255,\n",
        "    shear_range=0.2,\n",
        "    zoom_range=0.2,\n",
        "    horizontal_flip=True,\n",
        "    preprocessing_function=lambda x: x / 255.  # нормализация изображений\n",
        ")\n",
        "\n",
        "# Загрузка изображений и преобразование в массивы\n",
        "def load_images(image_paths, target_size):\n",
        "    images = []\n",
        "    for img_path in image_paths:\n",
        "        img = load_img(img_path, target_size=target_size)\n",
        "        img_array = img_to_array(img)\n",
        "        images.append(img_array)\n",
        "    return np.array(images)\n",
        "\n",
        "X_train_imgs = load_images(X_train, img_size)\n",
        "X_val_imgs = load_images(X_val, img_size)\n",
        "X_test_imgs = load_images(X_test, img_size)\n",
        "\n",
        "# Применение ImageDataGenerator\n",
        "train_generator = data_gen.flow(\n",
        "    X_train_imgs, y_train,\n",
        "    batch_size=batch_size\n",
        ")\n",
        "\n",
        "val_generator = data_gen.flow(\n",
        "    X_val_imgs, y_val,\n",
        "    batch_size=batch_size\n",
        ")\n",
        "\n",
        "test_generator = data_gen.flow(\n",
        "    X_test_imgs, y_test,\n",
        "    batch_size=batch_size\n",
        ")"
      ],
      "metadata": {
        "id": "RDZLj30bILDs"
      },
      "execution_count": 3,
      "outputs": []
    },
    {
      "cell_type": "code",
      "source": [
        "from tensorflow.keras.applications import ResNet50\n",
        "from tensorflow.keras.models import Model\n",
        "from tensorflow.keras.layers import Dense, GlobalAveragePooling2D\n",
        "from tensorflow.keras.optimizers import Adam\n",
        "from tensorflow.keras.losses import SparseCategoricalCrossentropy\n",
        "from tensorflow.keras.callbacks import EarlyStopping\n",
        "\n",
        "# Шаг 3: Выбор архитектуры нейронной сети\n",
        "\n",
        "# Загрузка предобученной модели ResNet50 без последнего слоя\n",
        "base_model = ResNet50(weights='imagenet', include_top=False, input_shape=(224, 224, 3))\n",
        "\n",
        "# Замораживание весов предобученной модели\n",
        "for layer in base_model.layers:\n",
        "    layer.trainable = False\n",
        "\n",
        "# Добавление новых слоев классификатора\n",
        "x = base_model.output\n",
        "x = GlobalAveragePooling2D()(x)\n",
        "x = Dense(512, activation='relu')(x)\n",
        "output = Dense(len(doc_types), activation='softmax')(x)\n",
        "\n",
        "# Создание модели\n",
        "model = Model(inputs=base_model.input, outputs=output)\n",
        "\n",
        "# Шаг 4: Обучение модели\n",
        "\n",
        "# Компиляция модели\n",
        "model.compile(optimizer=Adam(learning_rate=0.001),\n",
        "              loss=SparseCategoricalCrossentropy(),\n",
        "              metrics=['accuracy'])\n",
        "\n",
        "# Определение раннего останова (early stopping)\n",
        "early_stop = EarlyStopping(monitor='val_loss', patience=5, restore_best_weights=True)\n",
        "\n",
        "# Обучение модели\n",
        "epochs = 10\n",
        "history = model.fit(\n",
        "    train_generator,\n",
        "    steps_per_epoch=len(X_train) // batch_size,\n",
        "    validation_data=val_generator,\n",
        "    validation_steps=len(X_val) // batch_size,\n",
        "    epochs=epochs,\n",
        "    callbacks=[early_stop]\n",
        ")\n",
        "\n",
        "# Оценка модели на тестовом наборе\n",
        "test_loss, test_acc = model.evaluate(test_generator, steps=len(X_test) // batch_size)\n",
        "print(f'Test accuracy: {test_acc:.4f}')"
      ],
      "metadata": {
        "colab": {
          "base_uri": "https://localhost:8080/"
        },
        "id": "JLRzzLQjJ8KD",
        "outputId": "67ada97a-0f91-4692-df72-f02802174571"
      },
      "execution_count": 4,
      "outputs": [
        {
          "output_type": "stream",
          "name": "stdout",
          "text": [
            "Downloading data from https://storage.googleapis.com/tensorflow/keras-applications/resnet/resnet50_weights_tf_dim_ordering_tf_kernels_notop.h5\n",
            "94765736/94765736 [==============================] - 1s 0us/step\n",
            "Epoch 1/10\n",
            "7/7 [==============================] - 71s 10s/step - loss: 1.7374 - accuracy: 0.2735 - val_loss: 1.3615 - val_accuracy: 0.2969\n",
            "Epoch 2/10\n",
            "7/7 [==============================] - 69s 10s/step - loss: 1.4723 - accuracy: 0.3049 - val_loss: 1.4205 - val_accuracy: 0.2656\n",
            "Epoch 3/10\n",
            "7/7 [==============================] - 71s 10s/step - loss: 1.3907 - accuracy: 0.2870 - val_loss: 1.4913 - val_accuracy: 0.2812\n",
            "Epoch 4/10\n",
            "7/7 [==============================] - 69s 10s/step - loss: 1.3857 - accuracy: 0.2915 - val_loss: 1.3760 - val_accuracy: 0.3125\n",
            "Epoch 5/10\n",
            "7/7 [==============================] - 69s 10s/step - loss: 1.4056 - accuracy: 0.2589 - val_loss: 1.3866 - val_accuracy: 0.2969\n",
            "Epoch 6/10\n",
            "7/7 [==============================] - 63s 9s/step - loss: 1.3656 - accuracy: 0.2825 - val_loss: 1.3442 - val_accuracy: 0.2500\n",
            "Epoch 7/10\n",
            "7/7 [==============================] - 67s 10s/step - loss: 1.4300 - accuracy: 0.2679 - val_loss: 1.4015 - val_accuracy: 0.3438\n",
            "Epoch 8/10\n",
            "7/7 [==============================] - 67s 10s/step - loss: 1.3719 - accuracy: 0.2735 - val_loss: 1.3316 - val_accuracy: 0.2812\n",
            "Epoch 9/10\n",
            "7/7 [==============================] - 72s 11s/step - loss: 1.3485 - accuracy: 0.2735 - val_loss: 1.3445 - val_accuracy: 0.3125\n",
            "Epoch 10/10\n",
            "7/7 [==============================] - 70s 11s/step - loss: 1.3301 - accuracy: 0.2589 - val_loss: 1.3432 - val_accuracy: 0.2656\n",
            "2/2 [==============================] - 15s 7s/step - loss: 1.3251 - accuracy: 0.2969\n",
            "Test accuracy: 0.2969\n"
          ]
        }
      ]
    },
    {
      "cell_type": "code",
      "source": [
        "# Сохранение модели\n",
        "model.save('Class_model.h5')"
      ],
      "metadata": {
        "colab": {
          "base_uri": "https://localhost:8080/"
        },
        "id": "jNTnosJRQRB7",
        "outputId": "a3a07cc7-c931-47e5-9e0d-da27f9c5bbf6"
      },
      "execution_count": 5,
      "outputs": [
        {
          "output_type": "stream",
          "name": "stderr",
          "text": [
            "/usr/local/lib/python3.10/dist-packages/keras/src/engine/training.py:3103: UserWarning: You are saving your model as an HDF5 file via `model.save()`. This file format is considered legacy. We recommend using instead the native Keras format, e.g. `model.save('my_model.keras')`.\n",
            "  saving_api.save_model(\n"
          ]
        }
      ]
    },
    {
      "cell_type": "code",
      "source": [
        "!pip install easyocr"
      ],
      "metadata": {
        "colab": {
          "base_uri": "https://localhost:8080/"
        },
        "id": "wZFf6HVNNjeb",
        "outputId": "a3779a2a-2b1b-415f-b0ee-2cf748817283"
      },
      "execution_count": 6,
      "outputs": [
        {
          "output_type": "stream",
          "name": "stdout",
          "text": [
            "Collecting easyocr\n",
            "  Downloading easyocr-1.7.1-py3-none-any.whl (2.9 MB)\n",
            "\u001b[2K     \u001b[90m━━━━━━━━━━━━━━━━━━━━━━━━━━━━━━━━━━━━━━━━\u001b[0m \u001b[32m2.9/2.9 MB\u001b[0m \u001b[31m11.2 MB/s\u001b[0m eta \u001b[36m0:00:00\u001b[0m\n",
            "\u001b[?25hRequirement already satisfied: torch in /usr/local/lib/python3.10/dist-packages (from easyocr) (2.2.1+cu121)\n",
            "Requirement already satisfied: torchvision>=0.5 in /usr/local/lib/python3.10/dist-packages (from easyocr) (0.17.1+cu121)\n",
            "Requirement already satisfied: opencv-python-headless in /usr/local/lib/python3.10/dist-packages (from easyocr) (4.9.0.80)\n",
            "Requirement already satisfied: scipy in /usr/local/lib/python3.10/dist-packages (from easyocr) (1.11.4)\n",
            "Requirement already satisfied: numpy in /usr/local/lib/python3.10/dist-packages (from easyocr) (1.25.2)\n",
            "Requirement already satisfied: Pillow in /usr/local/lib/python3.10/dist-packages (from easyocr) (9.4.0)\n",
            "Requirement already satisfied: scikit-image in /usr/local/lib/python3.10/dist-packages (from easyocr) (0.19.3)\n",
            "Collecting python-bidi (from easyocr)\n",
            "  Downloading python_bidi-0.4.2-py2.py3-none-any.whl (30 kB)\n",
            "Requirement already satisfied: PyYAML in /usr/local/lib/python3.10/dist-packages (from easyocr) (6.0.1)\n",
            "Requirement already satisfied: Shapely in /usr/local/lib/python3.10/dist-packages (from easyocr) (2.0.3)\n",
            "Collecting pyclipper (from easyocr)\n",
            "  Downloading pyclipper-1.3.0.post5-cp310-cp310-manylinux_2_12_x86_64.manylinux2010_x86_64.whl (908 kB)\n",
            "\u001b[2K     \u001b[90m━━━━━━━━━━━━━━━━━━━━━━━━━━━━━━━━━━━━━━━━\u001b[0m \u001b[32m908.3/908.3 kB\u001b[0m \u001b[31m49.4 MB/s\u001b[0m eta \u001b[36m0:00:00\u001b[0m\n",
            "\u001b[?25hCollecting ninja (from easyocr)\n",
            "  Downloading ninja-1.11.1.1-py2.py3-none-manylinux1_x86_64.manylinux_2_5_x86_64.whl (307 kB)\n",
            "\u001b[2K     \u001b[90m━━━━━━━━━━━━━━━━━━━━━━━━━━━━━━━━━━━━━━━━\u001b[0m \u001b[32m307.2/307.2 kB\u001b[0m \u001b[31m21.9 MB/s\u001b[0m eta \u001b[36m0:00:00\u001b[0m\n",
            "\u001b[?25hRequirement already satisfied: filelock in /usr/local/lib/python3.10/dist-packages (from torch->easyocr) (3.13.4)\n",
            "Requirement already satisfied: typing-extensions>=4.8.0 in /usr/local/lib/python3.10/dist-packages (from torch->easyocr) (4.11.0)\n",
            "Requirement already satisfied: sympy in /usr/local/lib/python3.10/dist-packages (from torch->easyocr) (1.12)\n",
            "Requirement already satisfied: networkx in /usr/local/lib/python3.10/dist-packages (from torch->easyocr) (3.3)\n",
            "Requirement already satisfied: jinja2 in /usr/local/lib/python3.10/dist-packages (from torch->easyocr) (3.1.3)\n",
            "Requirement already satisfied: fsspec in /usr/local/lib/python3.10/dist-packages (from torch->easyocr) (2023.6.0)\n",
            "Collecting nvidia-cuda-nvrtc-cu12==12.1.105 (from torch->easyocr)\n",
            "  Using cached nvidia_cuda_nvrtc_cu12-12.1.105-py3-none-manylinux1_x86_64.whl (23.7 MB)\n",
            "Collecting nvidia-cuda-runtime-cu12==12.1.105 (from torch->easyocr)\n",
            "  Using cached nvidia_cuda_runtime_cu12-12.1.105-py3-none-manylinux1_x86_64.whl (823 kB)\n",
            "Collecting nvidia-cuda-cupti-cu12==12.1.105 (from torch->easyocr)\n",
            "  Using cached nvidia_cuda_cupti_cu12-12.1.105-py3-none-manylinux1_x86_64.whl (14.1 MB)\n",
            "Collecting nvidia-cudnn-cu12==8.9.2.26 (from torch->easyocr)\n",
            "  Using cached nvidia_cudnn_cu12-8.9.2.26-py3-none-manylinux1_x86_64.whl (731.7 MB)\n",
            "Collecting nvidia-cublas-cu12==12.1.3.1 (from torch->easyocr)\n",
            "  Using cached nvidia_cublas_cu12-12.1.3.1-py3-none-manylinux1_x86_64.whl (410.6 MB)\n",
            "Collecting nvidia-cufft-cu12==11.0.2.54 (from torch->easyocr)\n",
            "  Using cached nvidia_cufft_cu12-11.0.2.54-py3-none-manylinux1_x86_64.whl (121.6 MB)\n",
            "Collecting nvidia-curand-cu12==10.3.2.106 (from torch->easyocr)\n",
            "  Using cached nvidia_curand_cu12-10.3.2.106-py3-none-manylinux1_x86_64.whl (56.5 MB)\n",
            "Collecting nvidia-cusolver-cu12==11.4.5.107 (from torch->easyocr)\n",
            "  Using cached nvidia_cusolver_cu12-11.4.5.107-py3-none-manylinux1_x86_64.whl (124.2 MB)\n",
            "Collecting nvidia-cusparse-cu12==12.1.0.106 (from torch->easyocr)\n",
            "  Using cached nvidia_cusparse_cu12-12.1.0.106-py3-none-manylinux1_x86_64.whl (196.0 MB)\n",
            "Collecting nvidia-nccl-cu12==2.19.3 (from torch->easyocr)\n",
            "  Using cached nvidia_nccl_cu12-2.19.3-py3-none-manylinux1_x86_64.whl (166.0 MB)\n",
            "Collecting nvidia-nvtx-cu12==12.1.105 (from torch->easyocr)\n",
            "  Using cached nvidia_nvtx_cu12-12.1.105-py3-none-manylinux1_x86_64.whl (99 kB)\n",
            "Requirement already satisfied: triton==2.2.0 in /usr/local/lib/python3.10/dist-packages (from torch->easyocr) (2.2.0)\n",
            "Collecting nvidia-nvjitlink-cu12 (from nvidia-cusolver-cu12==11.4.5.107->torch->easyocr)\n",
            "  Using cached nvidia_nvjitlink_cu12-12.4.127-py3-none-manylinux2014_x86_64.whl (21.1 MB)\n",
            "Requirement already satisfied: six in /usr/local/lib/python3.10/dist-packages (from python-bidi->easyocr) (1.16.0)\n",
            "Requirement already satisfied: imageio>=2.4.1 in /usr/local/lib/python3.10/dist-packages (from scikit-image->easyocr) (2.31.6)\n",
            "Requirement already satisfied: tifffile>=2019.7.26 in /usr/local/lib/python3.10/dist-packages (from scikit-image->easyocr) (2024.2.12)\n",
            "Requirement already satisfied: PyWavelets>=1.1.1 in /usr/local/lib/python3.10/dist-packages (from scikit-image->easyocr) (1.6.0)\n",
            "Requirement already satisfied: packaging>=20.0 in /usr/local/lib/python3.10/dist-packages (from scikit-image->easyocr) (24.0)\n",
            "Requirement already satisfied: MarkupSafe>=2.0 in /usr/local/lib/python3.10/dist-packages (from jinja2->torch->easyocr) (2.1.5)\n",
            "Requirement already satisfied: mpmath>=0.19 in /usr/local/lib/python3.10/dist-packages (from sympy->torch->easyocr) (1.3.0)\n",
            "Installing collected packages: pyclipper, ninja, python-bidi, nvidia-nvtx-cu12, nvidia-nvjitlink-cu12, nvidia-nccl-cu12, nvidia-curand-cu12, nvidia-cufft-cu12, nvidia-cuda-runtime-cu12, nvidia-cuda-nvrtc-cu12, nvidia-cuda-cupti-cu12, nvidia-cublas-cu12, nvidia-cusparse-cu12, nvidia-cudnn-cu12, nvidia-cusolver-cu12, easyocr\n",
            "Successfully installed easyocr-1.7.1 ninja-1.11.1.1 nvidia-cublas-cu12-12.1.3.1 nvidia-cuda-cupti-cu12-12.1.105 nvidia-cuda-nvrtc-cu12-12.1.105 nvidia-cuda-runtime-cu12-12.1.105 nvidia-cudnn-cu12-8.9.2.26 nvidia-cufft-cu12-11.0.2.54 nvidia-curand-cu12-10.3.2.106 nvidia-cusolver-cu12-11.4.5.107 nvidia-cusparse-cu12-12.1.0.106 nvidia-nccl-cu12-2.19.3 nvidia-nvjitlink-cu12-12.4.127 nvidia-nvtx-cu12-12.1.105 pyclipper-1.3.0.post5 python-bidi-0.4.2\n"
          ]
        }
      ]
    },
    {
      "cell_type": "code",
      "source": [
        "import easyocr\n",
        "import re\n",
        "from dateutil import parser\n",
        "\n",
        "# Инициализация OCR\n",
        "reader = easyocr.Reader(['ru', 'en'])\n",
        "\n",
        "# Функция для извлечения текста из изображения\n",
        "def extract_text(img_path):\n",
        "    result = reader.readtext(img_path, detail=0)\n",
        "    return ' '.join(result)\n",
        "\n",
        "# Функция для извлечения информации из текста\n",
        "def extract_info(text):\n",
        "    info = {}\n",
        "\n",
        "    # Извлечение номера документа\n",
        "    doc_num_pattern = r'\\b\\d{4}\\s?\\d{6}\\b'\n",
        "    match = re.search(doc_num_pattern, text)\n",
        "    if match:\n",
        "        info['doc_num'] = match.group().replace(' ', '')\n",
        "\n",
        "    # Извлечение даты выдачи\n",
        "    date_pattern = r'\\d{2}\\.\\d{2}\\.\\d{4}'\n",
        "    match = re.search(date_pattern, text)\n",
        "    if match:\n",
        "        date_str = match.group()\n",
        "        info['issue_date'] = parser.parse(date_str, dayfirst=True).date()\n",
        "\n",
        "    # Извлечение ФИО\n",
        "    name_pattern = r'[А-ЯЁ][а-яё]+ [А-ЯЁ]\\.[А-ЯЁ]\\.'\n",
        "    match = re.search(name_pattern, text)\n",
        "    if match:\n",
        "        info['name'] = match.group()\n",
        "\n",
        "    return info\n",
        "\n",
        "# Пример использования\n",
        "test_img_path = '/content/data/P_STS/s_9916_991351-1.png'\n",
        "text = extract_text(test_img_path)\n",
        "info = extract_info(text)\n",
        "print(info)"
      ],
      "metadata": {
        "colab": {
          "base_uri": "https://localhost:8080/"
        },
        "id": "kQqGJ2vbNXxY",
        "outputId": "730f24fe-dbc8-4c45-d9b7-47ec795c8375"
      },
      "execution_count": 7,
      "outputs": [
        {
          "output_type": "stream",
          "name": "stderr",
          "text": [
            "WARNING:easyocr.easyocr:Neither CUDA nor MPS are available - defaulting to CPU. Note: This module is much faster with a GPU.\n",
            "WARNING:easyocr.easyocr:Downloading detection model, please wait. This may take several minutes depending upon your network connection.\n"
          ]
        },
        {
          "output_type": "stream",
          "name": "stdout",
          "text": [
            "Progress: |██████████████████████████████████████████████████| 100.0% Complete"
          ]
        },
        {
          "output_type": "stream",
          "name": "stderr",
          "text": [
            "WARNING:easyocr.easyocr:Downloading recognition model, please wait. This may take several minutes depending upon your network connection.\n"
          ]
        },
        {
          "output_type": "stream",
          "name": "stdout",
          "text": [
            "Progress: |██████████████████████████████████████████████████| 100.1% Complete{}\n"
          ]
        }
      ]
    },
    {
      "cell_type": "code",
      "source": [
        "# Экспорт переменных\n",
        "import pickle\n",
        "\n",
        "with open('y_test.pkl', 'wb') as f:\n",
        "    pickle.dump(y_test, f)\n",
        "\n",
        "with open('X_test_imgs.pkl', 'wb') as f:\n",
        "    pickle.dump(X_test_imgs, f)\n",
        "\n",
        "with open('doc_types.pkl', 'wb') as f:\n",
        "    pickle.dump(doc_types, f)"
      ],
      "metadata": {
        "id": "A_6DiWGh3W1u"
      },
      "execution_count": 18,
      "outputs": []
    },
    {
      "cell_type": "markdown",
      "source": [
        "# API-сервер"
      ],
      "metadata": {
        "id": "0FuQ3c8TuHjE"
      }
    },
    {
      "cell_type": "code",
      "source": [
        "!pip install gunicorn"
      ],
      "metadata": {
        "colab": {
          "base_uri": "https://localhost:8080/"
        },
        "id": "e1GwcsAAdVLC",
        "outputId": "2c3951b7-3c25-4085-8fd9-9e27926f0cab"
      },
      "execution_count": 62,
      "outputs": [
        {
          "output_type": "stream",
          "name": "stdout",
          "text": [
            "Collecting gunicorn\n",
            "  Downloading gunicorn-21.2.0-py3-none-any.whl (80 kB)\n",
            "\u001b[2K     \u001b[90m━━━━━━━━━━━━━━━━━━━━━━━━━━━━━━━━━━━━━━━━\u001b[0m \u001b[32m80.2/80.2 kB\u001b[0m \u001b[31m825.7 kB/s\u001b[0m eta \u001b[36m0:00:00\u001b[0m\n",
            "\u001b[?25hRequirement already satisfied: packaging in /usr/local/lib/python3.10/dist-packages (from gunicorn) (24.0)\n",
            "Installing collected packages: gunicorn\n",
            "Successfully installed gunicorn-21.2.0\n"
          ]
        }
      ]
    },
    {
      "cell_type": "code",
      "source": [
        "# Установка необходимых библиотек\n",
        "!pip install flask\n",
        "!pip install tensorflow\n",
        "!pip install easyocr\n",
        "!pip install python-dateutil\n",
        "\n",
        "# Импорт библиотек\n",
        "from flask import Flask, request\n",
        "import numpy as np\n",
        "from tensorflow.keras.preprocessing import image\n",
        "from tensorflow.keras.models import load_model\n",
        "import easyocr\n",
        "import re\n",
        "from dateutil import parser\n",
        "import pickle\n",
        "from flask import jsonify\n",
        "from io import BytesIO\n",
        "\n",
        "app = Flask(__name__)\n",
        "\n",
        "# Загрузка обученной модели и преобразователей\n",
        "model_path = '/content/Class_model.h5'\n",
        "model = load_model(model_path)\n",
        "reader = easyocr.Reader(['ru', 'en'])\n",
        "\n",
        "# Загрузка данных для оценки\n",
        "with open('y_test.pkl', 'rb') as f:\n",
        "    y_test = pickle.load(f)\n",
        "\n",
        "with open('X_test_imgs.pkl', 'rb') as f:\n",
        "    X_test_imgs = pickle.load(f)\n",
        "\n",
        "with open('doc_types.pkl', 'rb') as f:\n",
        "    doc_types = pickle.load(f)\n",
        "\n",
        "# Функция для предобработки изображения\n",
        "def preprocess_image(image_data):\n",
        "    img = image.img_to_array(image.load_img(image_data, target_size=(224, 224)))\n",
        "    img = np.expand_dims(img, axis=0)\n",
        "    return img\n",
        "\n",
        "# Функция для извлечения текста из изображения\n",
        "def extract_text(img_path):\n",
        "    result = reader.readtext(img_path, detail=0)\n",
        "    return ' '.join(result)\n",
        "\n",
        "# Функция для извлечения информации из текста\n",
        "def extract_info(text):\n",
        "    info = {}\n",
        "\n",
        "    # Извлечение номера документа\n",
        "    doc_num_pattern = r'\\b\\d{4}\\s?\\d{6}\\b'\n",
        "    match = re.search(doc_num_pattern, text)\n",
        "    if match:\n",
        "        info['doc_num'] = match.group().replace(' ', '')\n",
        "\n",
        "    # Извлечение даты выдачи\n",
        "    date_pattern = r'\\d{2}\\.\\d{2}\\.\\d{4}'\n",
        "    match = re.search(date_pattern, text)\n",
        "    if match:\n",
        "        date_str = match.group()\n",
        "        info['issue_date'] = parser.parse(date_str, dayfirst=True).date()\n",
        "\n",
        "    # Извлечение ФИО\n",
        "    name_pattern = r'[А-ЯЁ][а-яё]+ [А-ЯЁ]\\.[А-ЯЁ]\\.'\n",
        "    match = re.search(name_pattern, text)\n",
        "    if match:\n",
        "        info['name'] = match.group()\n",
        "\n",
        "    return info\n",
        "\n",
        "# Конечная точка API для классификации и извлечения информации\n",
        "# Конечная точка API для классификации и извлечения информации\n",
        "@app.route('/classify', methods=['POST'])\n",
        "def classify():\n",
        "    # Получение файла изображения\n",
        "    file = request.files['file']\n",
        "\n",
        "    # Предсказание класса документа\n",
        "    img = image.img_to_array(image.load_img(BytesIO(file.stream.read()), target_size=(224, 224)))\n",
        "    img = np.expand_dims(img, axis=0)\n",
        "    prediction = model.predict(img)\n",
        "    class_idx = np.argmax(prediction)\n",
        "    class_name = doc_types[class_idx]\n",
        "\n",
        "    # Извлечение текста и информации\n",
        "    file.stream.seek(0)  # Перемотка потока назад\n",
        "    text = extract_text(file.stream)\n",
        "    info = extract_info(text)\n",
        "\n",
        "    # Формирование ответа\n",
        "    response = {\n",
        "        'class': class_name,\n",
        "        'probabilities': prediction.tolist(),\n",
        "        'info': info\n",
        "    }\n",
        "\n",
        "    return jsonify(response)\n",
        "\n",
        "# Конечная точка API для оценки модели\n",
        "@app.route('/evaluate', methods=['GET'])\n",
        "def evaluate():\n",
        "    y_true = np.array(y_test)\n",
        "    y_pred = np.argmax(model.predict(X_test_imgs), axis=1)\n",
        "\n",
        "    from sklearn.metrics import accuracy_score, classification_report\n",
        "\n",
        "    accuracy = accuracy_score(y_true, y_pred)\n",
        "    report = classification_report(y_true, y_pred, target_names=doc_types, output_dict=True)\n",
        "\n",
        "    return {  # Замените на следующую строку\n",
        "        'accuracy': float(accuracy),\n",
        "        'classification_report': report\n",
        "    }\n",
        "    return jsonify({\n",
        "        'accuracy': float(accuracy),\n",
        "        'classification_report': report\n",
        "    })\n",
        "\n",
        "if __name__ == '__main__':\n",
        "    app.run(host='0.0.0.0', port=8011)"
      ],
      "metadata": {
        "colab": {
          "base_uri": "https://localhost:8080/"
        },
        "id": "yU5qPwJxlpE_",
        "outputId": "37cf5a97-8bda-4c59-f544-55fffb7d0530"
      },
      "execution_count": 98,
      "outputs": [
        {
          "output_type": "stream",
          "name": "stdout",
          "text": [
            "Requirement already satisfied: flask in /usr/local/lib/python3.10/dist-packages (2.2.5)\n",
            "Requirement already satisfied: Werkzeug>=2.2.2 in /usr/local/lib/python3.10/dist-packages (from flask) (3.0.2)\n",
            "Requirement already satisfied: Jinja2>=3.0 in /usr/local/lib/python3.10/dist-packages (from flask) (3.1.3)\n",
            "Requirement already satisfied: itsdangerous>=2.0 in /usr/local/lib/python3.10/dist-packages (from flask) (2.1.2)\n",
            "Requirement already satisfied: click>=8.0 in /usr/local/lib/python3.10/dist-packages (from flask) (8.1.7)\n",
            "Requirement already satisfied: MarkupSafe>=2.0 in /usr/local/lib/python3.10/dist-packages (from Jinja2>=3.0->flask) (2.1.5)\n",
            "Requirement already satisfied: tensorflow in /usr/local/lib/python3.10/dist-packages (2.15.0)\n",
            "Requirement already satisfied: absl-py>=1.0.0 in /usr/local/lib/python3.10/dist-packages (from tensorflow) (1.4.0)\n",
            "Requirement already satisfied: astunparse>=1.6.0 in /usr/local/lib/python3.10/dist-packages (from tensorflow) (1.6.3)\n",
            "Requirement already satisfied: flatbuffers>=23.5.26 in /usr/local/lib/python3.10/dist-packages (from tensorflow) (24.3.25)\n",
            "Requirement already satisfied: gast!=0.5.0,!=0.5.1,!=0.5.2,>=0.2.1 in /usr/local/lib/python3.10/dist-packages (from tensorflow) (0.5.4)\n",
            "Requirement already satisfied: google-pasta>=0.1.1 in /usr/local/lib/python3.10/dist-packages (from tensorflow) (0.2.0)\n",
            "Requirement already satisfied: h5py>=2.9.0 in /usr/local/lib/python3.10/dist-packages (from tensorflow) (3.9.0)\n",
            "Requirement already satisfied: libclang>=13.0.0 in /usr/local/lib/python3.10/dist-packages (from tensorflow) (18.1.1)\n",
            "Requirement already satisfied: ml-dtypes~=0.2.0 in /usr/local/lib/python3.10/dist-packages (from tensorflow) (0.2.0)\n",
            "Requirement already satisfied: numpy<2.0.0,>=1.23.5 in /usr/local/lib/python3.10/dist-packages (from tensorflow) (1.25.2)\n",
            "Requirement already satisfied: opt-einsum>=2.3.2 in /usr/local/lib/python3.10/dist-packages (from tensorflow) (3.3.0)\n",
            "Requirement already satisfied: packaging in /usr/local/lib/python3.10/dist-packages (from tensorflow) (24.0)\n",
            "Requirement already satisfied: protobuf!=4.21.0,!=4.21.1,!=4.21.2,!=4.21.3,!=4.21.4,!=4.21.5,<5.0.0dev,>=3.20.3 in /usr/local/lib/python3.10/dist-packages (from tensorflow) (3.20.3)\n",
            "Requirement already satisfied: setuptools in /usr/local/lib/python3.10/dist-packages (from tensorflow) (67.7.2)\n",
            "Requirement already satisfied: six>=1.12.0 in /usr/local/lib/python3.10/dist-packages (from tensorflow) (1.16.0)\n",
            "Requirement already satisfied: termcolor>=1.1.0 in /usr/local/lib/python3.10/dist-packages (from tensorflow) (2.4.0)\n",
            "Requirement already satisfied: typing-extensions>=3.6.6 in /usr/local/lib/python3.10/dist-packages (from tensorflow) (4.11.0)\n",
            "Requirement already satisfied: wrapt<1.15,>=1.11.0 in /usr/local/lib/python3.10/dist-packages (from tensorflow) (1.14.1)\n",
            "Requirement already satisfied: tensorflow-io-gcs-filesystem>=0.23.1 in /usr/local/lib/python3.10/dist-packages (from tensorflow) (0.36.0)\n",
            "Requirement already satisfied: grpcio<2.0,>=1.24.3 in /usr/local/lib/python3.10/dist-packages (from tensorflow) (1.62.1)\n",
            "Requirement already satisfied: tensorboard<2.16,>=2.15 in /usr/local/lib/python3.10/dist-packages (from tensorflow) (2.15.2)\n",
            "Requirement already satisfied: tensorflow-estimator<2.16,>=2.15.0 in /usr/local/lib/python3.10/dist-packages (from tensorflow) (2.15.0)\n",
            "Requirement already satisfied: keras<2.16,>=2.15.0 in /usr/local/lib/python3.10/dist-packages (from tensorflow) (2.15.0)\n",
            "Requirement already satisfied: wheel<1.0,>=0.23.0 in /usr/local/lib/python3.10/dist-packages (from astunparse>=1.6.0->tensorflow) (0.43.0)\n",
            "Requirement already satisfied: google-auth<3,>=1.6.3 in /usr/local/lib/python3.10/dist-packages (from tensorboard<2.16,>=2.15->tensorflow) (2.27.0)\n",
            "Requirement already satisfied: google-auth-oauthlib<2,>=0.5 in /usr/local/lib/python3.10/dist-packages (from tensorboard<2.16,>=2.15->tensorflow) (1.2.0)\n",
            "Requirement already satisfied: markdown>=2.6.8 in /usr/local/lib/python3.10/dist-packages (from tensorboard<2.16,>=2.15->tensorflow) (3.6)\n",
            "Requirement already satisfied: requests<3,>=2.21.0 in /usr/local/lib/python3.10/dist-packages (from tensorboard<2.16,>=2.15->tensorflow) (2.31.0)\n",
            "Requirement already satisfied: tensorboard-data-server<0.8.0,>=0.7.0 in /usr/local/lib/python3.10/dist-packages (from tensorboard<2.16,>=2.15->tensorflow) (0.7.2)\n",
            "Requirement already satisfied: werkzeug>=1.0.1 in /usr/local/lib/python3.10/dist-packages (from tensorboard<2.16,>=2.15->tensorflow) (3.0.2)\n",
            "Requirement already satisfied: cachetools<6.0,>=2.0.0 in /usr/local/lib/python3.10/dist-packages (from google-auth<3,>=1.6.3->tensorboard<2.16,>=2.15->tensorflow) (5.3.3)\n",
            "Requirement already satisfied: pyasn1-modules>=0.2.1 in /usr/local/lib/python3.10/dist-packages (from google-auth<3,>=1.6.3->tensorboard<2.16,>=2.15->tensorflow) (0.4.0)\n",
            "Requirement already satisfied: rsa<5,>=3.1.4 in /usr/local/lib/python3.10/dist-packages (from google-auth<3,>=1.6.3->tensorboard<2.16,>=2.15->tensorflow) (4.9)\n",
            "Requirement already satisfied: requests-oauthlib>=0.7.0 in /usr/local/lib/python3.10/dist-packages (from google-auth-oauthlib<2,>=0.5->tensorboard<2.16,>=2.15->tensorflow) (1.3.1)\n",
            "Requirement already satisfied: charset-normalizer<4,>=2 in /usr/local/lib/python3.10/dist-packages (from requests<3,>=2.21.0->tensorboard<2.16,>=2.15->tensorflow) (3.3.2)\n",
            "Requirement already satisfied: idna<4,>=2.5 in /usr/local/lib/python3.10/dist-packages (from requests<3,>=2.21.0->tensorboard<2.16,>=2.15->tensorflow) (3.6)\n",
            "Requirement already satisfied: urllib3<3,>=1.21.1 in /usr/local/lib/python3.10/dist-packages (from requests<3,>=2.21.0->tensorboard<2.16,>=2.15->tensorflow) (2.0.7)\n",
            "Requirement already satisfied: certifi>=2017.4.17 in /usr/local/lib/python3.10/dist-packages (from requests<3,>=2.21.0->tensorboard<2.16,>=2.15->tensorflow) (2024.2.2)\n",
            "Requirement already satisfied: MarkupSafe>=2.1.1 in /usr/local/lib/python3.10/dist-packages (from werkzeug>=1.0.1->tensorboard<2.16,>=2.15->tensorflow) (2.1.5)\n",
            "Requirement already satisfied: pyasn1<0.7.0,>=0.4.6 in /usr/local/lib/python3.10/dist-packages (from pyasn1-modules>=0.2.1->google-auth<3,>=1.6.3->tensorboard<2.16,>=2.15->tensorflow) (0.6.0)\n",
            "Requirement already satisfied: oauthlib>=3.0.0 in /usr/local/lib/python3.10/dist-packages (from requests-oauthlib>=0.7.0->google-auth-oauthlib<2,>=0.5->tensorboard<2.16,>=2.15->tensorflow) (3.2.2)\n",
            "Requirement already satisfied: easyocr in /usr/local/lib/python3.10/dist-packages (1.7.1)\n",
            "Requirement already satisfied: torch in /usr/local/lib/python3.10/dist-packages (from easyocr) (2.2.1+cu121)\n",
            "Requirement already satisfied: torchvision>=0.5 in /usr/local/lib/python3.10/dist-packages (from easyocr) (0.17.1+cu121)\n",
            "Requirement already satisfied: opencv-python-headless in /usr/local/lib/python3.10/dist-packages (from easyocr) (4.9.0.80)\n",
            "Requirement already satisfied: scipy in /usr/local/lib/python3.10/dist-packages (from easyocr) (1.11.4)\n",
            "Requirement already satisfied: numpy in /usr/local/lib/python3.10/dist-packages (from easyocr) (1.25.2)\n",
            "Requirement already satisfied: Pillow in /usr/local/lib/python3.10/dist-packages (from easyocr) (9.4.0)\n",
            "Requirement already satisfied: scikit-image in /usr/local/lib/python3.10/dist-packages (from easyocr) (0.19.3)\n",
            "Requirement already satisfied: python-bidi in /usr/local/lib/python3.10/dist-packages (from easyocr) (0.4.2)\n",
            "Requirement already satisfied: PyYAML in /usr/local/lib/python3.10/dist-packages (from easyocr) (6.0.1)\n",
            "Requirement already satisfied: Shapely in /usr/local/lib/python3.10/dist-packages (from easyocr) (2.0.3)\n",
            "Requirement already satisfied: pyclipper in /usr/local/lib/python3.10/dist-packages (from easyocr) (1.3.0.post5)\n",
            "Requirement already satisfied: ninja in /usr/local/lib/python3.10/dist-packages (from easyocr) (1.11.1.1)\n",
            "Requirement already satisfied: filelock in /usr/local/lib/python3.10/dist-packages (from torch->easyocr) (3.13.4)\n",
            "Requirement already satisfied: typing-extensions>=4.8.0 in /usr/local/lib/python3.10/dist-packages (from torch->easyocr) (4.11.0)\n",
            "Requirement already satisfied: sympy in /usr/local/lib/python3.10/dist-packages (from torch->easyocr) (1.12)\n",
            "Requirement already satisfied: networkx in /usr/local/lib/python3.10/dist-packages (from torch->easyocr) (3.3)\n",
            "Requirement already satisfied: jinja2 in /usr/local/lib/python3.10/dist-packages (from torch->easyocr) (3.1.3)\n",
            "Requirement already satisfied: fsspec in /usr/local/lib/python3.10/dist-packages (from torch->easyocr) (2023.6.0)\n",
            "Requirement already satisfied: nvidia-cuda-nvrtc-cu12==12.1.105 in /usr/local/lib/python3.10/dist-packages (from torch->easyocr) (12.1.105)\n",
            "Requirement already satisfied: nvidia-cuda-runtime-cu12==12.1.105 in /usr/local/lib/python3.10/dist-packages (from torch->easyocr) (12.1.105)\n",
            "Requirement already satisfied: nvidia-cuda-cupti-cu12==12.1.105 in /usr/local/lib/python3.10/dist-packages (from torch->easyocr) (12.1.105)\n",
            "Requirement already satisfied: nvidia-cudnn-cu12==8.9.2.26 in /usr/local/lib/python3.10/dist-packages (from torch->easyocr) (8.9.2.26)\n",
            "Requirement already satisfied: nvidia-cublas-cu12==12.1.3.1 in /usr/local/lib/python3.10/dist-packages (from torch->easyocr) (12.1.3.1)\n",
            "Requirement already satisfied: nvidia-cufft-cu12==11.0.2.54 in /usr/local/lib/python3.10/dist-packages (from torch->easyocr) (11.0.2.54)\n",
            "Requirement already satisfied: nvidia-curand-cu12==10.3.2.106 in /usr/local/lib/python3.10/dist-packages (from torch->easyocr) (10.3.2.106)\n",
            "Requirement already satisfied: nvidia-cusolver-cu12==11.4.5.107 in /usr/local/lib/python3.10/dist-packages (from torch->easyocr) (11.4.5.107)\n",
            "Requirement already satisfied: nvidia-cusparse-cu12==12.1.0.106 in /usr/local/lib/python3.10/dist-packages (from torch->easyocr) (12.1.0.106)\n",
            "Requirement already satisfied: nvidia-nccl-cu12==2.19.3 in /usr/local/lib/python3.10/dist-packages (from torch->easyocr) (2.19.3)\n",
            "Requirement already satisfied: nvidia-nvtx-cu12==12.1.105 in /usr/local/lib/python3.10/dist-packages (from torch->easyocr) (12.1.105)\n",
            "Requirement already satisfied: triton==2.2.0 in /usr/local/lib/python3.10/dist-packages (from torch->easyocr) (2.2.0)\n",
            "Requirement already satisfied: nvidia-nvjitlink-cu12 in /usr/local/lib/python3.10/dist-packages (from nvidia-cusolver-cu12==11.4.5.107->torch->easyocr) (12.4.127)\n",
            "Requirement already satisfied: six in /usr/local/lib/python3.10/dist-packages (from python-bidi->easyocr) (1.16.0)\n",
            "Requirement already satisfied: imageio>=2.4.1 in /usr/local/lib/python3.10/dist-packages (from scikit-image->easyocr) (2.31.6)\n",
            "Requirement already satisfied: tifffile>=2019.7.26 in /usr/local/lib/python3.10/dist-packages (from scikit-image->easyocr) (2024.2.12)\n",
            "Requirement already satisfied: PyWavelets>=1.1.1 in /usr/local/lib/python3.10/dist-packages (from scikit-image->easyocr) (1.6.0)\n",
            "Requirement already satisfied: packaging>=20.0 in /usr/local/lib/python3.10/dist-packages (from scikit-image->easyocr) (24.0)\n",
            "Requirement already satisfied: MarkupSafe>=2.0 in /usr/local/lib/python3.10/dist-packages (from jinja2->torch->easyocr) (2.1.5)\n",
            "Requirement already satisfied: mpmath>=0.19 in /usr/local/lib/python3.10/dist-packages (from sympy->torch->easyocr) (1.3.0)\n",
            "Requirement already satisfied: python-dateutil in /usr/local/lib/python3.10/dist-packages (2.8.2)\n",
            "Requirement already satisfied: six>=1.5 in /usr/local/lib/python3.10/dist-packages (from python-dateutil) (1.16.0)\n"
          ]
        },
        {
          "output_type": "stream",
          "name": "stderr",
          "text": [
            "WARNING:easyocr.easyocr:Neither CUDA nor MPS are available - defaulting to CPU. Note: This module is much faster with a GPU.\n"
          ]
        },
        {
          "output_type": "stream",
          "name": "stdout",
          "text": [
            " * Serving Flask app '__main__'\n",
            " * Debug mode: off\n"
          ]
        },
        {
          "output_type": "stream",
          "name": "stderr",
          "text": [
            "INFO:werkzeug:\u001b[31m\u001b[1mWARNING: This is a development server. Do not use it in a production deployment. Use a production WSGI server instead.\u001b[0m\n",
            " * Running on all addresses (0.0.0.0)\n",
            " * Running on http://127.0.0.1:8011\n",
            " * Running on http://172.28.0.12:8011\n",
            "INFO:werkzeug:\u001b[33mPress CTRL+C to quit\u001b[0m\n"
          ]
        }
      ]
    },
    {
      "cell_type": "code",
      "source": [
        "!nohup gunicorn --bind 0.0.0.0:8011 app:app &"
      ],
      "metadata": {
        "colab": {
          "base_uri": "https://localhost:8080/"
        },
        "id": "TGWQdaETczl3",
        "outputId": "b6f54b00-1c9f-4f81-bf09-251d5fbeed01"
      },
      "execution_count": 106,
      "outputs": [
        {
          "output_type": "stream",
          "name": "stdout",
          "text": [
            "nohup: appending output to 'nohup.out'\n"
          ]
        }
      ]
    },
    {
      "cell_type": "code",
      "source": [
        "import requests\n",
        "from PIL import Image\n",
        "\n",
        "# Загрузите изображение документа в формате PNG\n",
        "img_path = '/content/data/P_STS/s_9916_991351-1.png'  # Замените на путь к вашему изображению\n",
        "\n",
        "# Отправьте POST-запрос с изображением\n",
        "with open(img_path, 'rb') as file:\n",
        "    response = requests.post('http://localhost:8011/classify', files={'file': file})\n",
        "\n",
        "response.json()"
      ],
      "metadata": {
        "colab": {
          "base_uri": "https://localhost:8080/",
          "height": 408
        },
        "id": "Cd6lHd9flPU9",
        "outputId": "c290b84a-45f6-4403-c2eb-7f3c362e6491"
      },
      "execution_count": 107,
      "outputs": [
        {
          "output_type": "error",
          "ename": "JSONDecodeError",
          "evalue": "Expecting value: line 1 column 1 (char 0)",
          "traceback": [
            "\u001b[0;31m---------------------------------------------------------------------------\u001b[0m",
            "\u001b[0;31mJSONDecodeError\u001b[0m                           Traceback (most recent call last)",
            "\u001b[0;32m/usr/local/lib/python3.10/dist-packages/requests/models.py\u001b[0m in \u001b[0;36mjson\u001b[0;34m(self, **kwargs)\u001b[0m\n\u001b[1;32m    970\u001b[0m         \u001b[0;32mtry\u001b[0m\u001b[0;34m:\u001b[0m\u001b[0;34m\u001b[0m\u001b[0;34m\u001b[0m\u001b[0m\n\u001b[0;32m--> 971\u001b[0;31m             \u001b[0;32mreturn\u001b[0m \u001b[0mcomplexjson\u001b[0m\u001b[0;34m.\u001b[0m\u001b[0mloads\u001b[0m\u001b[0;34m(\u001b[0m\u001b[0mself\u001b[0m\u001b[0;34m.\u001b[0m\u001b[0mtext\u001b[0m\u001b[0;34m,\u001b[0m \u001b[0;34m**\u001b[0m\u001b[0mkwargs\u001b[0m\u001b[0;34m)\u001b[0m\u001b[0;34m\u001b[0m\u001b[0;34m\u001b[0m\u001b[0m\n\u001b[0m\u001b[1;32m    972\u001b[0m         \u001b[0;32mexcept\u001b[0m \u001b[0mJSONDecodeError\u001b[0m \u001b[0;32mas\u001b[0m \u001b[0me\u001b[0m\u001b[0;34m:\u001b[0m\u001b[0;34m\u001b[0m\u001b[0;34m\u001b[0m\u001b[0m\n",
            "\u001b[0;32m/usr/lib/python3.10/json/__init__.py\u001b[0m in \u001b[0;36mloads\u001b[0;34m(s, cls, object_hook, parse_float, parse_int, parse_constant, object_pairs_hook, **kw)\u001b[0m\n\u001b[1;32m    345\u001b[0m             parse_constant is None and object_pairs_hook is None and not kw):\n\u001b[0;32m--> 346\u001b[0;31m         \u001b[0;32mreturn\u001b[0m \u001b[0m_default_decoder\u001b[0m\u001b[0;34m.\u001b[0m\u001b[0mdecode\u001b[0m\u001b[0;34m(\u001b[0m\u001b[0ms\u001b[0m\u001b[0;34m)\u001b[0m\u001b[0;34m\u001b[0m\u001b[0;34m\u001b[0m\u001b[0m\n\u001b[0m\u001b[1;32m    347\u001b[0m     \u001b[0;32mif\u001b[0m \u001b[0mcls\u001b[0m \u001b[0;32mis\u001b[0m \u001b[0;32mNone\u001b[0m\u001b[0;34m:\u001b[0m\u001b[0;34m\u001b[0m\u001b[0;34m\u001b[0m\u001b[0m\n",
            "\u001b[0;32m/usr/lib/python3.10/json/decoder.py\u001b[0m in \u001b[0;36mdecode\u001b[0;34m(self, s, _w)\u001b[0m\n\u001b[1;32m    336\u001b[0m         \"\"\"\n\u001b[0;32m--> 337\u001b[0;31m         \u001b[0mobj\u001b[0m\u001b[0;34m,\u001b[0m \u001b[0mend\u001b[0m \u001b[0;34m=\u001b[0m \u001b[0mself\u001b[0m\u001b[0;34m.\u001b[0m\u001b[0mraw_decode\u001b[0m\u001b[0;34m(\u001b[0m\u001b[0ms\u001b[0m\u001b[0;34m,\u001b[0m \u001b[0midx\u001b[0m\u001b[0;34m=\u001b[0m\u001b[0m_w\u001b[0m\u001b[0;34m(\u001b[0m\u001b[0ms\u001b[0m\u001b[0;34m,\u001b[0m \u001b[0;36m0\u001b[0m\u001b[0;34m)\u001b[0m\u001b[0;34m.\u001b[0m\u001b[0mend\u001b[0m\u001b[0;34m(\u001b[0m\u001b[0;34m)\u001b[0m\u001b[0;34m)\u001b[0m\u001b[0;34m\u001b[0m\u001b[0;34m\u001b[0m\u001b[0m\n\u001b[0m\u001b[1;32m    338\u001b[0m         \u001b[0mend\u001b[0m \u001b[0;34m=\u001b[0m \u001b[0m_w\u001b[0m\u001b[0;34m(\u001b[0m\u001b[0ms\u001b[0m\u001b[0;34m,\u001b[0m \u001b[0mend\u001b[0m\u001b[0;34m)\u001b[0m\u001b[0;34m.\u001b[0m\u001b[0mend\u001b[0m\u001b[0;34m(\u001b[0m\u001b[0;34m)\u001b[0m\u001b[0;34m\u001b[0m\u001b[0;34m\u001b[0m\u001b[0m\n",
            "\u001b[0;32m/usr/lib/python3.10/json/decoder.py\u001b[0m in \u001b[0;36mraw_decode\u001b[0;34m(self, s, idx)\u001b[0m\n\u001b[1;32m    354\u001b[0m         \u001b[0;32mexcept\u001b[0m \u001b[0mStopIteration\u001b[0m \u001b[0;32mas\u001b[0m \u001b[0merr\u001b[0m\u001b[0;34m:\u001b[0m\u001b[0;34m\u001b[0m\u001b[0;34m\u001b[0m\u001b[0m\n\u001b[0;32m--> 355\u001b[0;31m             \u001b[0;32mraise\u001b[0m \u001b[0mJSONDecodeError\u001b[0m\u001b[0;34m(\u001b[0m\u001b[0;34m\"Expecting value\"\u001b[0m\u001b[0;34m,\u001b[0m \u001b[0ms\u001b[0m\u001b[0;34m,\u001b[0m \u001b[0merr\u001b[0m\u001b[0;34m.\u001b[0m\u001b[0mvalue\u001b[0m\u001b[0;34m)\u001b[0m \u001b[0;32mfrom\u001b[0m \u001b[0;32mNone\u001b[0m\u001b[0;34m\u001b[0m\u001b[0;34m\u001b[0m\u001b[0m\n\u001b[0m\u001b[1;32m    356\u001b[0m         \u001b[0;32mreturn\u001b[0m \u001b[0mobj\u001b[0m\u001b[0;34m,\u001b[0m \u001b[0mend\u001b[0m\u001b[0;34m\u001b[0m\u001b[0;34m\u001b[0m\u001b[0m\n",
            "\u001b[0;31mJSONDecodeError\u001b[0m: Expecting value: line 1 column 1 (char 0)",
            "\nDuring handling of the above exception, another exception occurred:\n",
            "\u001b[0;31mJSONDecodeError\u001b[0m                           Traceback (most recent call last)",
            "\u001b[0;32m<ipython-input-107-ee487e709503>\u001b[0m in \u001b[0;36m<cell line: 11>\u001b[0;34m()\u001b[0m\n\u001b[1;32m      9\u001b[0m     \u001b[0mresponse\u001b[0m \u001b[0;34m=\u001b[0m \u001b[0mrequests\u001b[0m\u001b[0;34m.\u001b[0m\u001b[0mpost\u001b[0m\u001b[0;34m(\u001b[0m\u001b[0;34m'http://localhost:8000/classify'\u001b[0m\u001b[0;34m,\u001b[0m \u001b[0mfiles\u001b[0m\u001b[0;34m=\u001b[0m\u001b[0;34m{\u001b[0m\u001b[0;34m'file'\u001b[0m\u001b[0;34m:\u001b[0m \u001b[0mfile\u001b[0m\u001b[0;34m}\u001b[0m\u001b[0;34m)\u001b[0m\u001b[0;34m\u001b[0m\u001b[0;34m\u001b[0m\u001b[0m\n\u001b[1;32m     10\u001b[0m \u001b[0;34m\u001b[0m\u001b[0m\n\u001b[0;32m---> 11\u001b[0;31m \u001b[0mresponse\u001b[0m\u001b[0;34m.\u001b[0m\u001b[0mjson\u001b[0m\u001b[0;34m(\u001b[0m\u001b[0;34m)\u001b[0m\u001b[0;34m\u001b[0m\u001b[0;34m\u001b[0m\u001b[0m\n\u001b[0m",
            "\u001b[0;32m/usr/local/lib/python3.10/dist-packages/requests/models.py\u001b[0m in \u001b[0;36mjson\u001b[0;34m(self, **kwargs)\u001b[0m\n\u001b[1;32m    973\u001b[0m             \u001b[0;31m# Catch JSON-related errors and raise as requests.JSONDecodeError\u001b[0m\u001b[0;34m\u001b[0m\u001b[0;34m\u001b[0m\u001b[0m\n\u001b[1;32m    974\u001b[0m             \u001b[0;31m# This aliases json.JSONDecodeError and simplejson.JSONDecodeError\u001b[0m\u001b[0;34m\u001b[0m\u001b[0;34m\u001b[0m\u001b[0m\n\u001b[0;32m--> 975\u001b[0;31m             \u001b[0;32mraise\u001b[0m \u001b[0mRequestsJSONDecodeError\u001b[0m\u001b[0;34m(\u001b[0m\u001b[0me\u001b[0m\u001b[0;34m.\u001b[0m\u001b[0mmsg\u001b[0m\u001b[0;34m,\u001b[0m \u001b[0me\u001b[0m\u001b[0;34m.\u001b[0m\u001b[0mdoc\u001b[0m\u001b[0;34m,\u001b[0m \u001b[0me\u001b[0m\u001b[0;34m.\u001b[0m\u001b[0mpos\u001b[0m\u001b[0;34m)\u001b[0m\u001b[0;34m\u001b[0m\u001b[0;34m\u001b[0m\u001b[0m\n\u001b[0m\u001b[1;32m    976\u001b[0m \u001b[0;34m\u001b[0m\u001b[0m\n\u001b[1;32m    977\u001b[0m     \u001b[0;34m@\u001b[0m\u001b[0mproperty\u001b[0m\u001b[0;34m\u001b[0m\u001b[0;34m\u001b[0m\u001b[0m\n",
            "\u001b[0;31mJSONDecodeError\u001b[0m: Expecting value: line 1 column 1 (char 0)"
          ]
        }
      ]
    },
    {
      "cell_type": "code",
      "source": [
        "import requests\n",
        "\n",
        "# Отправьте GET-запрос\n",
        "response = requests.get('http://localhost:8011/evaluate')\n",
        "\n",
        "print(response.json())"
      ],
      "metadata": {
        "colab": {
          "base_uri": "https://localhost:8080/"
        },
        "id": "m0mnyIz1nbuZ",
        "outputId": "bbabf902-f61b-4a9a-c94d-a034caa2253b"
      },
      "execution_count": 103,
      "outputs": [
        {
          "output_type": "stream",
          "name": "stdout",
          "text": [
            "{'accuracy': 0.3372093023255814, 'classification_report': {'P_Drivers': {'f1-score': 0.46428571428571425, 'precision': 0.41935483870967744, 'recall': 0.52, 'support': 25}, 'P_PTS': {'f1-score': 0.0, 'precision': 0.0, 'recall': 0.0, 'support': 10}, 'P_Passports': {'f1-score': 0.3636363636363636, 'precision': 0.42105263157894735, 'recall': 0.32, 'support': 25}, 'P_STS': {'f1-score': 0.3076923076923077, 'precision': 0.3076923076923077, 'recall': 0.3076923076923077, 'support': 26}, 'accuracy': 0.3372093023255814, 'macro avg': {'f1-score': 0.2839035964035964, 'precision': 0.28702494449523314, 'recall': 0.28692307692307695, 'support': 86}, 'weighted avg': {'f1-score': 0.3336982784657203, 'precision': 0.3373277529908793, 'recall': 0.3372093023255814, 'support': 86}}}\n"
          ]
        }
      ]
    },
    {
      "cell_type": "code",
      "source": [
        "!pkill gunicorn"
      ],
      "metadata": {
        "id": "BcLkIunAdcBp"
      },
      "execution_count": 104,
      "outputs": []
    }
  ]
}